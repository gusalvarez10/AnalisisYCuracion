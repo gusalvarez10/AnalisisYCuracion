{
  "cells": [
    {
      "cell_type": "markdown",
      "metadata": {
        "id": "view-in-github",
        "colab_type": "text"
      },
      "source": [
        "<a href=\"https://colab.research.google.com/github/gusalvarez10/AnalisisYCuracion/blob/master/Entregable_Parte_1.ipynb\" target=\"_parent\"><img src=\"https://colab.research.google.com/assets/colab-badge.svg\" alt=\"Open In Colab\"/></a>"
      ]
    },
    {
      "cell_type": "markdown",
      "metadata": {
        "id": "LYvAOR2VzHmW"
      },
      "source": [
        "\n",
        "**Diplomatura en Ciencia de Datos, Aprendizaje Automático y sus Aplicaciones**\n",
        "\n",
        "**Edición 2022**\n",
        "\n",
        "---\n",
        "## Trabajo práctico entregable - Parte 1"
      ]
    },
    {
      "cell_type": "code",
      "execution_count": 2,
      "metadata": {
        "id": "Xwdfo7z20TUK"
      },
      "outputs": [],
      "source": [
        "import io\n",
        "import matplotlib\n",
        "import matplotlib.pyplot as plt\n",
        "import numpy\n",
        "import pandas as pd\n",
        "import seaborn\n",
        "\n",
        "seaborn.set_context('talk')"
      ]
    },
    {
      "cell_type": "markdown",
      "metadata": {
        "id": "avyNCn23r1iy"
      },
      "source": [
        "#### El data frame está definido como df.\n",
        "Lo primero a realizar es la lectura del **dataset**:"
      ]
    },
    {
      "cell_type": "markdown",
      "metadata": {
        "id": "XY2Hl-Ma07Nn"
      },
      "source": [
        "## Lectura del dataset\n",
        "\n",
        "En la notebook 00 se explican los detalles de la siguiente sección."
      ]
    },
    {
      "cell_type": "code",
      "execution_count": 3,
      "metadata": {
        "id": "Vviv_sqXdR5W"
      },
      "outputs": [],
      "source": [
        "url = 'https://cs.famaf.unc.edu.ar/~mteruel/datasets/diplodatos/sysarmy_survey_2020_processed.csv'\n",
        "df = pd.read_csv(url)"
      ]
    },
    {
      "cell_type": "code",
      "execution_count": 4,
      "metadata": {
        "colab": {
          "base_uri": "https://localhost:8080/",
          "height": 323
        },
        "id": "gckNHXXLktJ4",
        "outputId": "173c2a29-da3d-465f-9cee-968cd58e2104"
      },
      "outputs": [
        {
          "output_type": "execute_result",
          "data": {
            "text/plain": [
              "  profile_gender  profile_age work_country                    work_province  \\\n",
              "0          Mujer           26    Argentina  Ciudad Autónoma de Buenos Aires   \n",
              "1         Hombre           29    Argentina                       Corrientes   \n",
              "2          Mujer           22    Argentina  Ciudad Autónoma de Buenos Aires   \n",
              "\n",
              "   profile_years_experience  work_years_in_company  \\\n",
              "0                       3.0                    3.0   \n",
              "1                       5.0                    2.0   \n",
              "2                       2.0                    0.0   \n",
              "\n",
              "   work_years_in_current_position  work_people_in_charge_of  \\\n",
              "0                             3.0                         0   \n",
              "1                             2.0                         4   \n",
              "2                             0.0                         0   \n",
              "\n",
              "  profile_studies_level profile_studies_level_state  ...  \\\n",
              "0         Universitario                    En curso  ...   \n",
              "1         Universitario                    En curso  ...   \n",
              "2            Secundario                  Completado  ...   \n",
              "\n",
              "  work_has_violence_situations profile_sexual_orientation  \\\n",
              "0         En mi trabajo actual                 Homosexual   \n",
              "1                        Jamás               Heterosexual   \n",
              "2       En un trabajo anterior           Bisexual o queer   \n",
              "\n",
              "  profile_has_disabilities profile_has_disabilities_hiring_difficulties  \\\n",
              "0                      NaN                                          NaN   \n",
              "1                   Visual                                           No   \n",
              "2                      NaN                                           No   \n",
              "\n",
              "  company_employee_number                          company_main_activity  \\\n",
              "0                501-1000  Servicios / Consultoría de Software / Digital   \n",
              "1                 201-500                               Otras industrias   \n",
              "2               2001-5000                               Otras industrias   \n",
              "\n",
              "  company_recommended company_diversity_policies  \\\n",
              "0                   7                          2   \n",
              "1                   8                          9   \n",
              "2                   6                          9   \n",
              "\n",
              "                              company_extra_benefits  \\\n",
              "0  Capacitaciones y/o cursos, Comidas pagas / sub...   \n",
              "1  Horarios flexibles, Stock options / RSUs, Viát...   \n",
              "2  Clases de gimnasia online, Comidas pagas / sub...   \n",
              "\n",
              "  company_best_companies_city  \n",
              "0                         NaN  \n",
              "1                         NaN  \n",
              "2                         NaN  \n",
              "\n",
              "[3 rows x 48 columns]"
            ],
            "text/html": [
              "\n",
              "  <div id=\"df-c30d74be-4c8a-4751-bdd9-1b231f40dac7\">\n",
              "    <div class=\"colab-df-container\">\n",
              "      <div>\n",
              "<style scoped>\n",
              "    .dataframe tbody tr th:only-of-type {\n",
              "        vertical-align: middle;\n",
              "    }\n",
              "\n",
              "    .dataframe tbody tr th {\n",
              "        vertical-align: top;\n",
              "    }\n",
              "\n",
              "    .dataframe thead th {\n",
              "        text-align: right;\n",
              "    }\n",
              "</style>\n",
              "<table border=\"1\" class=\"dataframe\">\n",
              "  <thead>\n",
              "    <tr style=\"text-align: right;\">\n",
              "      <th></th>\n",
              "      <th>profile_gender</th>\n",
              "      <th>profile_age</th>\n",
              "      <th>work_country</th>\n",
              "      <th>work_province</th>\n",
              "      <th>profile_years_experience</th>\n",
              "      <th>work_years_in_company</th>\n",
              "      <th>work_years_in_current_position</th>\n",
              "      <th>work_people_in_charge_of</th>\n",
              "      <th>profile_studies_level</th>\n",
              "      <th>profile_studies_level_state</th>\n",
              "      <th>...</th>\n",
              "      <th>work_has_violence_situations</th>\n",
              "      <th>profile_sexual_orientation</th>\n",
              "      <th>profile_has_disabilities</th>\n",
              "      <th>profile_has_disabilities_hiring_difficulties</th>\n",
              "      <th>company_employee_number</th>\n",
              "      <th>company_main_activity</th>\n",
              "      <th>company_recommended</th>\n",
              "      <th>company_diversity_policies</th>\n",
              "      <th>company_extra_benefits</th>\n",
              "      <th>company_best_companies_city</th>\n",
              "    </tr>\n",
              "  </thead>\n",
              "  <tbody>\n",
              "    <tr>\n",
              "      <th>0</th>\n",
              "      <td>Mujer</td>\n",
              "      <td>26</td>\n",
              "      <td>Argentina</td>\n",
              "      <td>Ciudad Autónoma de Buenos Aires</td>\n",
              "      <td>3.0</td>\n",
              "      <td>3.0</td>\n",
              "      <td>3.0</td>\n",
              "      <td>0</td>\n",
              "      <td>Universitario</td>\n",
              "      <td>En curso</td>\n",
              "      <td>...</td>\n",
              "      <td>En mi trabajo actual</td>\n",
              "      <td>Homosexual</td>\n",
              "      <td>NaN</td>\n",
              "      <td>NaN</td>\n",
              "      <td>501-1000</td>\n",
              "      <td>Servicios / Consultoría de Software / Digital</td>\n",
              "      <td>7</td>\n",
              "      <td>2</td>\n",
              "      <td>Capacitaciones y/o cursos, Comidas pagas / sub...</td>\n",
              "      <td>NaN</td>\n",
              "    </tr>\n",
              "    <tr>\n",
              "      <th>1</th>\n",
              "      <td>Hombre</td>\n",
              "      <td>29</td>\n",
              "      <td>Argentina</td>\n",
              "      <td>Corrientes</td>\n",
              "      <td>5.0</td>\n",
              "      <td>2.0</td>\n",
              "      <td>2.0</td>\n",
              "      <td>4</td>\n",
              "      <td>Universitario</td>\n",
              "      <td>En curso</td>\n",
              "      <td>...</td>\n",
              "      <td>Jamás</td>\n",
              "      <td>Heterosexual</td>\n",
              "      <td>Visual</td>\n",
              "      <td>No</td>\n",
              "      <td>201-500</td>\n",
              "      <td>Otras industrias</td>\n",
              "      <td>8</td>\n",
              "      <td>9</td>\n",
              "      <td>Horarios flexibles, Stock options / RSUs, Viát...</td>\n",
              "      <td>NaN</td>\n",
              "    </tr>\n",
              "    <tr>\n",
              "      <th>2</th>\n",
              "      <td>Mujer</td>\n",
              "      <td>22</td>\n",
              "      <td>Argentina</td>\n",
              "      <td>Ciudad Autónoma de Buenos Aires</td>\n",
              "      <td>2.0</td>\n",
              "      <td>0.0</td>\n",
              "      <td>0.0</td>\n",
              "      <td>0</td>\n",
              "      <td>Secundario</td>\n",
              "      <td>Completado</td>\n",
              "      <td>...</td>\n",
              "      <td>En un trabajo anterior</td>\n",
              "      <td>Bisexual o queer</td>\n",
              "      <td>NaN</td>\n",
              "      <td>No</td>\n",
              "      <td>2001-5000</td>\n",
              "      <td>Otras industrias</td>\n",
              "      <td>6</td>\n",
              "      <td>9</td>\n",
              "      <td>Clases de gimnasia online, Comidas pagas / sub...</td>\n",
              "      <td>NaN</td>\n",
              "    </tr>\n",
              "  </tbody>\n",
              "</table>\n",
              "<p>3 rows × 48 columns</p>\n",
              "</div>\n",
              "      <button class=\"colab-df-convert\" onclick=\"convertToInteractive('df-c30d74be-4c8a-4751-bdd9-1b231f40dac7')\"\n",
              "              title=\"Convert this dataframe to an interactive table.\"\n",
              "              style=\"display:none;\">\n",
              "        \n",
              "  <svg xmlns=\"http://www.w3.org/2000/svg\" height=\"24px\"viewBox=\"0 0 24 24\"\n",
              "       width=\"24px\">\n",
              "    <path d=\"M0 0h24v24H0V0z\" fill=\"none\"/>\n",
              "    <path d=\"M18.56 5.44l.94 2.06.94-2.06 2.06-.94-2.06-.94-.94-2.06-.94 2.06-2.06.94zm-11 1L8.5 8.5l.94-2.06 2.06-.94-2.06-.94L8.5 2.5l-.94 2.06-2.06.94zm10 10l.94 2.06.94-2.06 2.06-.94-2.06-.94-.94-2.06-.94 2.06-2.06.94z\"/><path d=\"M17.41 7.96l-1.37-1.37c-.4-.4-.92-.59-1.43-.59-.52 0-1.04.2-1.43.59L10.3 9.45l-7.72 7.72c-.78.78-.78 2.05 0 2.83L4 21.41c.39.39.9.59 1.41.59.51 0 1.02-.2 1.41-.59l7.78-7.78 2.81-2.81c.8-.78.8-2.07 0-2.86zM5.41 20L4 18.59l7.72-7.72 1.47 1.35L5.41 20z\"/>\n",
              "  </svg>\n",
              "      </button>\n",
              "      \n",
              "  <style>\n",
              "    .colab-df-container {\n",
              "      display:flex;\n",
              "      flex-wrap:wrap;\n",
              "      gap: 12px;\n",
              "    }\n",
              "\n",
              "    .colab-df-convert {\n",
              "      background-color: #E8F0FE;\n",
              "      border: none;\n",
              "      border-radius: 50%;\n",
              "      cursor: pointer;\n",
              "      display: none;\n",
              "      fill: #1967D2;\n",
              "      height: 32px;\n",
              "      padding: 0 0 0 0;\n",
              "      width: 32px;\n",
              "    }\n",
              "\n",
              "    .colab-df-convert:hover {\n",
              "      background-color: #E2EBFA;\n",
              "      box-shadow: 0px 1px 2px rgba(60, 64, 67, 0.3), 0px 1px 3px 1px rgba(60, 64, 67, 0.15);\n",
              "      fill: #174EA6;\n",
              "    }\n",
              "\n",
              "    [theme=dark] .colab-df-convert {\n",
              "      background-color: #3B4455;\n",
              "      fill: #D2E3FC;\n",
              "    }\n",
              "\n",
              "    [theme=dark] .colab-df-convert:hover {\n",
              "      background-color: #434B5C;\n",
              "      box-shadow: 0px 1px 3px 1px rgba(0, 0, 0, 0.15);\n",
              "      filter: drop-shadow(0px 1px 2px rgba(0, 0, 0, 0.3));\n",
              "      fill: #FFFFFF;\n",
              "    }\n",
              "  </style>\n",
              "\n",
              "      <script>\n",
              "        const buttonEl =\n",
              "          document.querySelector('#df-c30d74be-4c8a-4751-bdd9-1b231f40dac7 button.colab-df-convert');\n",
              "        buttonEl.style.display =\n",
              "          google.colab.kernel.accessAllowed ? 'block' : 'none';\n",
              "\n",
              "        async function convertToInteractive(key) {\n",
              "          const element = document.querySelector('#df-c30d74be-4c8a-4751-bdd9-1b231f40dac7');\n",
              "          const dataTable =\n",
              "            await google.colab.kernel.invokeFunction('convertToInteractive',\n",
              "                                                     [key], {});\n",
              "          if (!dataTable) return;\n",
              "\n",
              "          const docLinkHtml = 'Like what you see? Visit the ' +\n",
              "            '<a target=\"_blank\" href=https://colab.research.google.com/notebooks/data_table.ipynb>data table notebook</a>'\n",
              "            + ' to learn more about interactive tables.';\n",
              "          element.innerHTML = '';\n",
              "          dataTable['output_type'] = 'display_data';\n",
              "          await google.colab.output.renderOutput(dataTable, element);\n",
              "          const docLink = document.createElement('div');\n",
              "          docLink.innerHTML = docLinkHtml;\n",
              "          element.appendChild(docLink);\n",
              "        }\n",
              "      </script>\n",
              "    </div>\n",
              "  </div>\n",
              "  "
            ]
          },
          "metadata": {},
          "execution_count": 4
        }
      ],
      "source": [
        "df[:3]"
      ]
    },
    {
      "cell_type": "markdown",
      "metadata": {
        "id": "-ZSQYANFHHgV"
      },
      "source": [
        "# Ejercicio 1 - Análisis descriptivo\n",
        "\n",
        "Responder a la pregunta: **¿Cuáles son los lenguajes de programación asociados a los mejores salarios?**\n",
        "\n",
        "Para ello:\n",
        "1. Seleccionar las columnas relevantes para analizar.\n",
        "2. Seleccionar las filas relevantes para analizar. Esto incluye la eliminación de valores extremos y erróneos, pero también puede enfocar el análisis en una sub-población. Por ejemplo, se pueden limitar a personas con un salario mayor que 10000 pesos, o a las personas que trabajan sólo en \"Data Science\", pero deben justificar su elección y reformular la pregunta inicial de ser necesario.\n",
        "  * Obtener una lista de los lenguajes de programación más populares. Decidir cuántos y cuáles seleccionan para incluir en el análisis.\n",
        "  * Para cada una de las otras columnas del punto anterior, elegir los rangos o valores seleccionan para incluir en el análisis.\n",
        "3. Seleccionar métricas que ayuden a responder la pregunta, y los métodos para analizarlas. Elegir UNA de las siguientes opciones:\n",
        "  * Comparar las distribuciones de salario para cada lenguaje utilizando visualizaciones. Como la visualización es el producto final, debe ser clara y mostrar información relevante.\n",
        "  * Comparar medidas de estadística descriptiva sobre la distribución de salario para cada lenguaje. Sean creativos, la estadística descriptiva nos permite decir cosas como: \"el 10% de los mejores sueldos los ganan, en su mayoría, programadores que saben kotlin!\" (donde *mayoría* es un término medio engañoso que sólo significa más del 50%). Para comparar múltiples lenguajes, les recomendamos usar también visualizaciones.\n",
        "  * Comparar probabilidades. Por ejemplo: \"Si sabés Python o Java, tenés un 30% más de chances de ganar arriba de 100K\".\n",
        "\n",
        "Si lo consideran necesario, realicen varias iteraciones. Es decir, si encuentran que las distribuciones de los lenguajes de programación que seleccionaron inicialmente no son muy diferentes, pueden re-hacer el análisis usando sólo los lenguajes de programación que son diferentes."
      ]
    },
    {
      "cell_type": "markdown",
      "metadata": {
        "id": "DuXUHZypTf3v"
      },
      "source": [
        "# **RESPUESTAS EJERCICIO 1**"
      ]
    },
    {
      "cell_type": "markdown",
      "metadata": {
        "id": "nHu_F8X1uaAR"
      },
      "source": [
        "#### Cantidad de filas y columnas del dataset:"
      ]
    },
    {
      "cell_type": "code",
      "execution_count": 5,
      "metadata": {
        "colab": {
          "base_uri": "https://localhost:8080/"
        },
        "id": "PVkSOGNRuejR",
        "outputId": "01f6f807-0de2-47c5-965a-c67294d6de6f"
      },
      "outputs": [
        {
          "output_type": "execute_result",
          "data": {
            "text/plain": [
              "(6095, 48)"
            ]
          },
          "metadata": {},
          "execution_count": 5
        }
      ],
      "source": [
        "df.shape"
      ]
    },
    {
      "cell_type": "markdown",
      "metadata": {
        "id": "nPkTFPT6tXvu"
      },
      "source": [
        "#### Información del dataset como la cantidad de columnas no nulas y el tipo de dato por columna:"
      ]
    },
    {
      "cell_type": "code",
      "execution_count": 6,
      "metadata": {
        "colab": {
          "base_uri": "https://localhost:8080/"
        },
        "id": "rn9fDml_tlnO",
        "outputId": "4675b170-1682-416a-993a-bbd2b766e01a"
      },
      "outputs": [
        {
          "output_type": "stream",
          "name": "stdout",
          "text": [
            "<class 'pandas.core.frame.DataFrame'>\n",
            "RangeIndex: 6095 entries, 0 to 6094\n",
            "Data columns (total 48 columns):\n",
            " #   Column                                        Non-Null Count  Dtype  \n",
            "---  ------                                        --------------  -----  \n",
            " 0   profile_gender                                6095 non-null   object \n",
            " 1   profile_age                                   6095 non-null   int64  \n",
            " 2   work_country                                  6095 non-null   object \n",
            " 3   work_province                                 6095 non-null   object \n",
            " 4   profile_years_experience                      6095 non-null   float64\n",
            " 5   work_years_in_company                         6095 non-null   float64\n",
            " 6   work_years_in_current_position                6095 non-null   float64\n",
            " 7   work_people_in_charge_of                      6095 non-null   int64  \n",
            " 8   profile_studies_level                         6095 non-null   object \n",
            " 9   profile_studies_level_state                   6095 non-null   object \n",
            " 10  profile_career                                5796 non-null   object \n",
            " 11  profile_university                            5561 non-null   object \n",
            " 12  profile_specialization_courses                6095 non-null   object \n",
            " 13  profile_open_source_contributions             6095 non-null   object \n",
            " 14  profile_programming_as_hobby                  6095 non-null   object \n",
            " 15  work_role                                     6095 non-null   object \n",
            " 16  tools_platform                                6093 non-null   object \n",
            " 17  tools_programming_languages                   6094 non-null   object \n",
            " 18  tools_frameworks                              6094 non-null   object \n",
            " 19  tools_data_bases                              6093 non-null   object \n",
            " 20  tools_qa_testing                              6089 non-null   object \n",
            " 21  tools_IDEs                                    6094 non-null   object \n",
            " 22  tools_work_pc_os                              6095 non-null   object \n",
            " 23  tools_cellphone_os                            6095 non-null   object \n",
            " 24  work_on_call_duty                             6095 non-null   object \n",
            " 25  salary_on_call_duty_charge                    6095 non-null   float64\n",
            " 26  work_on_call_duty_charge_type                 6095 non-null   object \n",
            " 27  work_contract_type                            6095 non-null   object \n",
            " 28  salary_monthly_BRUTO                          6095 non-null   float64\n",
            " 29  salary_monthly_NETO                           5883 non-null   float64\n",
            " 30  salary_in_usd                                 676 non-null    object \n",
            " 31  salary_satisfaction                           6095 non-null   int64  \n",
            " 32  salary_comparison_last_semester               6095 non-null   int64  \n",
            " 33  salary_has_bonus                              6095 non-null   object \n",
            " 34  salary_bonus_tied_to                          6095 non-null   object \n",
            " 35  salary_inflation_adjustment_2020              6095 non-null   object \n",
            " 36  salary_percentage_inflation_adjustment_2020   6095 non-null   float64\n",
            " 37  salary_month_last_inflation_adjustment        6095 non-null   int64  \n",
            " 38  work_has_violence_situations                  5954 non-null   object \n",
            " 39  profile_sexual_orientation                    5912 non-null   object \n",
            " 40  profile_has_disabilities                      600 non-null    object \n",
            " 41  profile_has_disabilities_hiring_difficulties  2207 non-null   object \n",
            " 42  company_employee_number                       6095 non-null   object \n",
            " 43  company_main_activity                         6095 non-null   object \n",
            " 44  company_recommended                           6095 non-null   int64  \n",
            " 45  company_diversity_policies                    6095 non-null   int64  \n",
            " 46  company_extra_benefits                        6094 non-null   object \n",
            " 47  company_best_companies_city                   1692 non-null   object \n",
            "dtypes: float64(7), int64(7), object(34)\n",
            "memory usage: 2.2+ MB\n"
          ]
        }
      ],
      "source": [
        "df.info()"
      ]
    },
    {
      "cell_type": "markdown",
      "metadata": {
        "id": "NRMDLQvHtH4e"
      },
      "source": [
        "#### Vista acotada de los datos:\n",
        "\n",
        "\n"
      ]
    },
    {
      "cell_type": "code",
      "execution_count": 7,
      "metadata": {
        "colab": {
          "base_uri": "https://localhost:8080/",
          "height": 456
        },
        "id": "zNo6HzrQtRZe",
        "outputId": "290e7867-0ec8-420d-9b55-87932ef407b4"
      },
      "outputs": [
        {
          "output_type": "execute_result",
          "data": {
            "text/plain": [
              "  profile_gender  profile_age work_country                    work_province  \\\n",
              "0          Mujer           26    Argentina  Ciudad Autónoma de Buenos Aires   \n",
              "1         Hombre           29    Argentina                       Corrientes   \n",
              "2          Mujer           22    Argentina  Ciudad Autónoma de Buenos Aires   \n",
              "3         Hombre           39    Argentina                       Corrientes   \n",
              "4         Hombre           32    Argentina  Ciudad Autónoma de Buenos Aires   \n",
              "\n",
              "   profile_years_experience  work_years_in_company  \\\n",
              "0                       3.0                    3.0   \n",
              "1                       5.0                    2.0   \n",
              "2                       2.0                    0.0   \n",
              "3                      15.0                   15.0   \n",
              "4                       9.0                    6.0   \n",
              "\n",
              "   work_years_in_current_position  work_people_in_charge_of  \\\n",
              "0                             3.0                         0   \n",
              "1                             2.0                         4   \n",
              "2                             0.0                         0   \n",
              "3                            13.0                         5   \n",
              "4                             6.0                         0   \n",
              "\n",
              "  profile_studies_level profile_studies_level_state  ...  \\\n",
              "0         Universitario                    En curso  ...   \n",
              "1         Universitario                    En curso  ...   \n",
              "2            Secundario                  Completado  ...   \n",
              "3              Posgrado                  Incompleto  ...   \n",
              "4         Universitario                    En curso  ...   \n",
              "\n",
              "  work_has_violence_situations profile_sexual_orientation  \\\n",
              "0         En mi trabajo actual                 Homosexual   \n",
              "1                        Jamás               Heterosexual   \n",
              "2       En un trabajo anterior           Bisexual o queer   \n",
              "3         En mi trabajo actual               Heterosexual   \n",
              "4                        Jamás               Heterosexual   \n",
              "\n",
              "  profile_has_disabilities profile_has_disabilities_hiring_difficulties  \\\n",
              "0                      NaN                                          NaN   \n",
              "1                   Visual                                           No   \n",
              "2                      NaN                                           No   \n",
              "3                      NaN                                          NaN   \n",
              "4                      NaN                                          NaN   \n",
              "\n",
              "  company_employee_number                          company_main_activity  \\\n",
              "0                501-1000  Servicios / Consultoría de Software / Digital   \n",
              "1                 201-500                               Otras industrias   \n",
              "2               2001-5000                               Otras industrias   \n",
              "3                501-1000                               Otras industrias   \n",
              "4                   11-50  Servicios / Consultoría de Software / Digital   \n",
              "\n",
              "  company_recommended company_diversity_policies  \\\n",
              "0                   7                          2   \n",
              "1                   8                          9   \n",
              "2                   6                          9   \n",
              "3                   7                          6   \n",
              "4                   6                          6   \n",
              "\n",
              "                              company_extra_benefits  \\\n",
              "0  Capacitaciones y/o cursos, Comidas pagas / sub...   \n",
              "1  Horarios flexibles, Stock options / RSUs, Viát...   \n",
              "2  Clases de gimnasia online, Comidas pagas / sub...   \n",
              "3  Abono de celular, Capacitaciones y/o cursos, C...   \n",
              "4  Clases de idiomas, Horarios flexibles, Vacacio...   \n",
              "\n",
              "  company_best_companies_city  \n",
              "0                         NaN  \n",
              "1                         NaN  \n",
              "2                         NaN  \n",
              "3                         NaN  \n",
              "4                         NaN  \n",
              "\n",
              "[5 rows x 48 columns]"
            ],
            "text/html": [
              "\n",
              "  <div id=\"df-e39fb475-06aa-4a6f-b713-e0fb4c02a0b3\">\n",
              "    <div class=\"colab-df-container\">\n",
              "      <div>\n",
              "<style scoped>\n",
              "    .dataframe tbody tr th:only-of-type {\n",
              "        vertical-align: middle;\n",
              "    }\n",
              "\n",
              "    .dataframe tbody tr th {\n",
              "        vertical-align: top;\n",
              "    }\n",
              "\n",
              "    .dataframe thead th {\n",
              "        text-align: right;\n",
              "    }\n",
              "</style>\n",
              "<table border=\"1\" class=\"dataframe\">\n",
              "  <thead>\n",
              "    <tr style=\"text-align: right;\">\n",
              "      <th></th>\n",
              "      <th>profile_gender</th>\n",
              "      <th>profile_age</th>\n",
              "      <th>work_country</th>\n",
              "      <th>work_province</th>\n",
              "      <th>profile_years_experience</th>\n",
              "      <th>work_years_in_company</th>\n",
              "      <th>work_years_in_current_position</th>\n",
              "      <th>work_people_in_charge_of</th>\n",
              "      <th>profile_studies_level</th>\n",
              "      <th>profile_studies_level_state</th>\n",
              "      <th>...</th>\n",
              "      <th>work_has_violence_situations</th>\n",
              "      <th>profile_sexual_orientation</th>\n",
              "      <th>profile_has_disabilities</th>\n",
              "      <th>profile_has_disabilities_hiring_difficulties</th>\n",
              "      <th>company_employee_number</th>\n",
              "      <th>company_main_activity</th>\n",
              "      <th>company_recommended</th>\n",
              "      <th>company_diversity_policies</th>\n",
              "      <th>company_extra_benefits</th>\n",
              "      <th>company_best_companies_city</th>\n",
              "    </tr>\n",
              "  </thead>\n",
              "  <tbody>\n",
              "    <tr>\n",
              "      <th>0</th>\n",
              "      <td>Mujer</td>\n",
              "      <td>26</td>\n",
              "      <td>Argentina</td>\n",
              "      <td>Ciudad Autónoma de Buenos Aires</td>\n",
              "      <td>3.0</td>\n",
              "      <td>3.0</td>\n",
              "      <td>3.0</td>\n",
              "      <td>0</td>\n",
              "      <td>Universitario</td>\n",
              "      <td>En curso</td>\n",
              "      <td>...</td>\n",
              "      <td>En mi trabajo actual</td>\n",
              "      <td>Homosexual</td>\n",
              "      <td>NaN</td>\n",
              "      <td>NaN</td>\n",
              "      <td>501-1000</td>\n",
              "      <td>Servicios / Consultoría de Software / Digital</td>\n",
              "      <td>7</td>\n",
              "      <td>2</td>\n",
              "      <td>Capacitaciones y/o cursos, Comidas pagas / sub...</td>\n",
              "      <td>NaN</td>\n",
              "    </tr>\n",
              "    <tr>\n",
              "      <th>1</th>\n",
              "      <td>Hombre</td>\n",
              "      <td>29</td>\n",
              "      <td>Argentina</td>\n",
              "      <td>Corrientes</td>\n",
              "      <td>5.0</td>\n",
              "      <td>2.0</td>\n",
              "      <td>2.0</td>\n",
              "      <td>4</td>\n",
              "      <td>Universitario</td>\n",
              "      <td>En curso</td>\n",
              "      <td>...</td>\n",
              "      <td>Jamás</td>\n",
              "      <td>Heterosexual</td>\n",
              "      <td>Visual</td>\n",
              "      <td>No</td>\n",
              "      <td>201-500</td>\n",
              "      <td>Otras industrias</td>\n",
              "      <td>8</td>\n",
              "      <td>9</td>\n",
              "      <td>Horarios flexibles, Stock options / RSUs, Viát...</td>\n",
              "      <td>NaN</td>\n",
              "    </tr>\n",
              "    <tr>\n",
              "      <th>2</th>\n",
              "      <td>Mujer</td>\n",
              "      <td>22</td>\n",
              "      <td>Argentina</td>\n",
              "      <td>Ciudad Autónoma de Buenos Aires</td>\n",
              "      <td>2.0</td>\n",
              "      <td>0.0</td>\n",
              "      <td>0.0</td>\n",
              "      <td>0</td>\n",
              "      <td>Secundario</td>\n",
              "      <td>Completado</td>\n",
              "      <td>...</td>\n",
              "      <td>En un trabajo anterior</td>\n",
              "      <td>Bisexual o queer</td>\n",
              "      <td>NaN</td>\n",
              "      <td>No</td>\n",
              "      <td>2001-5000</td>\n",
              "      <td>Otras industrias</td>\n",
              "      <td>6</td>\n",
              "      <td>9</td>\n",
              "      <td>Clases de gimnasia online, Comidas pagas / sub...</td>\n",
              "      <td>NaN</td>\n",
              "    </tr>\n",
              "    <tr>\n",
              "      <th>3</th>\n",
              "      <td>Hombre</td>\n",
              "      <td>39</td>\n",
              "      <td>Argentina</td>\n",
              "      <td>Corrientes</td>\n",
              "      <td>15.0</td>\n",
              "      <td>15.0</td>\n",
              "      <td>13.0</td>\n",
              "      <td>5</td>\n",
              "      <td>Posgrado</td>\n",
              "      <td>Incompleto</td>\n",
              "      <td>...</td>\n",
              "      <td>En mi trabajo actual</td>\n",
              "      <td>Heterosexual</td>\n",
              "      <td>NaN</td>\n",
              "      <td>NaN</td>\n",
              "      <td>501-1000</td>\n",
              "      <td>Otras industrias</td>\n",
              "      <td>7</td>\n",
              "      <td>6</td>\n",
              "      <td>Abono de celular, Capacitaciones y/o cursos, C...</td>\n",
              "      <td>NaN</td>\n",
              "    </tr>\n",
              "    <tr>\n",
              "      <th>4</th>\n",
              "      <td>Hombre</td>\n",
              "      <td>32</td>\n",
              "      <td>Argentina</td>\n",
              "      <td>Ciudad Autónoma de Buenos Aires</td>\n",
              "      <td>9.0</td>\n",
              "      <td>6.0</td>\n",
              "      <td>6.0</td>\n",
              "      <td>0</td>\n",
              "      <td>Universitario</td>\n",
              "      <td>En curso</td>\n",
              "      <td>...</td>\n",
              "      <td>Jamás</td>\n",
              "      <td>Heterosexual</td>\n",
              "      <td>NaN</td>\n",
              "      <td>NaN</td>\n",
              "      <td>11-50</td>\n",
              "      <td>Servicios / Consultoría de Software / Digital</td>\n",
              "      <td>6</td>\n",
              "      <td>6</td>\n",
              "      <td>Clases de idiomas, Horarios flexibles, Vacacio...</td>\n",
              "      <td>NaN</td>\n",
              "    </tr>\n",
              "  </tbody>\n",
              "</table>\n",
              "<p>5 rows × 48 columns</p>\n",
              "</div>\n",
              "      <button class=\"colab-df-convert\" onclick=\"convertToInteractive('df-e39fb475-06aa-4a6f-b713-e0fb4c02a0b3')\"\n",
              "              title=\"Convert this dataframe to an interactive table.\"\n",
              "              style=\"display:none;\">\n",
              "        \n",
              "  <svg xmlns=\"http://www.w3.org/2000/svg\" height=\"24px\"viewBox=\"0 0 24 24\"\n",
              "       width=\"24px\">\n",
              "    <path d=\"M0 0h24v24H0V0z\" fill=\"none\"/>\n",
              "    <path d=\"M18.56 5.44l.94 2.06.94-2.06 2.06-.94-2.06-.94-.94-2.06-.94 2.06-2.06.94zm-11 1L8.5 8.5l.94-2.06 2.06-.94-2.06-.94L8.5 2.5l-.94 2.06-2.06.94zm10 10l.94 2.06.94-2.06 2.06-.94-2.06-.94-.94-2.06-.94 2.06-2.06.94z\"/><path d=\"M17.41 7.96l-1.37-1.37c-.4-.4-.92-.59-1.43-.59-.52 0-1.04.2-1.43.59L10.3 9.45l-7.72 7.72c-.78.78-.78 2.05 0 2.83L4 21.41c.39.39.9.59 1.41.59.51 0 1.02-.2 1.41-.59l7.78-7.78 2.81-2.81c.8-.78.8-2.07 0-2.86zM5.41 20L4 18.59l7.72-7.72 1.47 1.35L5.41 20z\"/>\n",
              "  </svg>\n",
              "      </button>\n",
              "      \n",
              "  <style>\n",
              "    .colab-df-container {\n",
              "      display:flex;\n",
              "      flex-wrap:wrap;\n",
              "      gap: 12px;\n",
              "    }\n",
              "\n",
              "    .colab-df-convert {\n",
              "      background-color: #E8F0FE;\n",
              "      border: none;\n",
              "      border-radius: 50%;\n",
              "      cursor: pointer;\n",
              "      display: none;\n",
              "      fill: #1967D2;\n",
              "      height: 32px;\n",
              "      padding: 0 0 0 0;\n",
              "      width: 32px;\n",
              "    }\n",
              "\n",
              "    .colab-df-convert:hover {\n",
              "      background-color: #E2EBFA;\n",
              "      box-shadow: 0px 1px 2px rgba(60, 64, 67, 0.3), 0px 1px 3px 1px rgba(60, 64, 67, 0.15);\n",
              "      fill: #174EA6;\n",
              "    }\n",
              "\n",
              "    [theme=dark] .colab-df-convert {\n",
              "      background-color: #3B4455;\n",
              "      fill: #D2E3FC;\n",
              "    }\n",
              "\n",
              "    [theme=dark] .colab-df-convert:hover {\n",
              "      background-color: #434B5C;\n",
              "      box-shadow: 0px 1px 3px 1px rgba(0, 0, 0, 0.15);\n",
              "      filter: drop-shadow(0px 1px 2px rgba(0, 0, 0, 0.3));\n",
              "      fill: #FFFFFF;\n",
              "    }\n",
              "  </style>\n",
              "\n",
              "      <script>\n",
              "        const buttonEl =\n",
              "          document.querySelector('#df-e39fb475-06aa-4a6f-b713-e0fb4c02a0b3 button.colab-df-convert');\n",
              "        buttonEl.style.display =\n",
              "          google.colab.kernel.accessAllowed ? 'block' : 'none';\n",
              "\n",
              "        async function convertToInteractive(key) {\n",
              "          const element = document.querySelector('#df-e39fb475-06aa-4a6f-b713-e0fb4c02a0b3');\n",
              "          const dataTable =\n",
              "            await google.colab.kernel.invokeFunction('convertToInteractive',\n",
              "                                                     [key], {});\n",
              "          if (!dataTable) return;\n",
              "\n",
              "          const docLinkHtml = 'Like what you see? Visit the ' +\n",
              "            '<a target=\"_blank\" href=https://colab.research.google.com/notebooks/data_table.ipynb>data table notebook</a>'\n",
              "            + ' to learn more about interactive tables.';\n",
              "          element.innerHTML = '';\n",
              "          dataTable['output_type'] = 'display_data';\n",
              "          await google.colab.output.renderOutput(dataTable, element);\n",
              "          const docLink = document.createElement('div');\n",
              "          docLink.innerHTML = docLinkHtml;\n",
              "          element.appendChild(docLink);\n",
              "        }\n",
              "      </script>\n",
              "    </div>\n",
              "  </div>\n",
              "  "
            ]
          },
          "metadata": {},
          "execution_count": 7
        }
      ],
      "source": [
        "df.head(5)"
      ]
    },
    {
      "cell_type": "markdown",
      "metadata": {
        "id": "qyGWlIp5xL8o"
      },
      "source": [
        "#### 1.1 Selección de las columnas relevamentes para analizar.\n",
        "\n",
        "Principalmente se va a enfocar el analisis en las columnas:\n",
        "\n",
        "\n",
        "*   salary_in_usd\n",
        "*   salary_monthly_BRUTO\n",
        "*   tools_programming_languages\n",
        "\n"
      ]
    },
    {
      "cell_type": "code",
      "execution_count": 8,
      "metadata": {
        "id": "6dqTEr7cZgvl"
      },
      "outputs": [],
      "source": [
        "relevant_columns = ['tools_programming_languages', 'salary_monthly_BRUTO', 'salary_in_usd']"
      ]
    },
    {
      "cell_type": "markdown",
      "metadata": {
        "id": "YscSissq76Uv"
      },
      "source": [
        "#### Inspección de valores de la columna salary_in_usd:\n",
        "\n",
        "\n"
      ]
    },
    {
      "cell_type": "code",
      "execution_count": 9,
      "metadata": {
        "colab": {
          "base_uri": "https://localhost:8080/"
        },
        "id": "wxc5N0kV4_we",
        "outputId": "38de34e5-84e9-463b-9d33-da626b533afd"
      },
      "outputs": [
        {
          "output_type": "execute_result",
          "data": {
            "text/plain": [
              "array([nan, 'Mi sueldo está dolarizado'], dtype=object)"
            ]
          },
          "metadata": {},
          "execution_count": 9
        }
      ],
      "source": [
        "df.salary_in_usd.unique()"
      ]
    },
    {
      "cell_type": "markdown",
      "metadata": {
        "id": "AAKXu_8Y97lm"
      },
      "source": [
        "#### Se reemplazan los valores nulos en la columna salary_in_usd por *Mi sueldo no está dolarizado*:"
      ]
    },
    {
      "cell_type": "code",
      "execution_count": 10,
      "metadata": {
        "id": "dln9TyRJ7n02"
      },
      "outputs": [],
      "source": [
        "df.salary_in_usd = df.salary_in_usd.fillna('Mi sueldo no está dolarizado')\n"
      ]
    },
    {
      "cell_type": "markdown",
      "metadata": {
        "id": "-aOQ69XvAW7J"
      },
      "source": [
        "#### Se comprueba nuevamente los valores únicos de la columna salary_in_usd:"
      ]
    },
    {
      "cell_type": "code",
      "execution_count": 11,
      "metadata": {
        "colab": {
          "base_uri": "https://localhost:8080/"
        },
        "id": "cRz8-Hvb-haa",
        "outputId": "1e35cc5a-73b4-4e24-c001-044db27419e2"
      },
      "outputs": [
        {
          "output_type": "execute_result",
          "data": {
            "text/plain": [
              "array(['Mi sueldo no está dolarizado', 'Mi sueldo está dolarizado'],\n",
              "      dtype=object)"
            ]
          },
          "metadata": {},
          "execution_count": 11
        }
      ],
      "source": [
        "df.salary_in_usd.unique()"
      ]
    },
    {
      "cell_type": "markdown",
      "metadata": {
        "id": "4a5xHpeMsolG"
      },
      "source": [
        "#### 1.2 Se plantea la siguiente hipótesis:\n",
        "**Un salario en dólares es un mejor salario.**\n",
        "\n",
        "*Tomando que un mejor salario es un mayor salario.*"
      ]
    },
    {
      "cell_type": "markdown",
      "metadata": {
        "id": "NRPoar2lAiGs"
      },
      "source": [
        "#### Cantidad de sueldos dolarizados y NO dolarizados:\n",
        "\n",
        "\n"
      ]
    },
    {
      "cell_type": "code",
      "execution_count": 12,
      "metadata": {
        "colab": {
          "base_uri": "https://localhost:8080/"
        },
        "id": "htnH7HjUA7to",
        "outputId": "97a4f812-bc55-4fee-b563-9e33245101c0"
      },
      "outputs": [
        {
          "output_type": "execute_result",
          "data": {
            "text/plain": [
              "676"
            ]
          },
          "metadata": {},
          "execution_count": 12
        }
      ],
      "source": [
        "#Sueldo dolarizados.\n",
        "\n",
        "df[df['salary_in_usd'] == 'Mi sueldo está dolarizado'].shape[0]"
      ]
    },
    {
      "cell_type": "code",
      "execution_count": 13,
      "metadata": {
        "colab": {
          "base_uri": "https://localhost:8080/"
        },
        "id": "VUdYjzFgBbLs",
        "outputId": "871c1f75-288d-4ced-808b-e314651d6ea2"
      },
      "outputs": [
        {
          "output_type": "execute_result",
          "data": {
            "text/plain": [
              "5419"
            ]
          },
          "metadata": {},
          "execution_count": 13
        }
      ],
      "source": [
        "#Sueldo no dolarizados.\n",
        "\n",
        "\n",
        "df[df['salary_in_usd'] == 'Mi sueldo no está dolarizado'].shape[0]"
      ]
    },
    {
      "cell_type": "markdown",
      "metadata": {
        "id": "guacv5rIS0H0"
      },
      "source": [
        "#### Como se planteó precedentemente, nuestra hipótesis parte de que un sueldo dolarizado es un mejor salario, entonces se va a analizar esa premisa:"
      ]
    },
    {
      "cell_type": "code",
      "execution_count": 14,
      "metadata": {
        "id": "4Uh0jNUsUIlu"
      },
      "outputs": [],
      "source": [
        "# De esta manera seteo las opciones, en 2 decimales y agrego el simbolo $ a los valores.\n",
        "\n",
        "pd.options.display.float_format = '{:,.2f}'.format"
      ]
    },
    {
      "cell_type": "code",
      "execution_count": 15,
      "metadata": {
        "colab": {
          "base_uri": "https://localhost:8080/"
        },
        "id": "BUAXZrnkYxkB",
        "outputId": "20087c65-30df-459c-e9fb-c9082eb94c7c"
      },
      "outputs": [
        {
          "output_type": "execute_result",
          "data": {
            "text/plain": [
              "count       6,095.00\n",
              "mean      124,058.55\n",
              "std       122,912.35\n",
              "min             1.00\n",
              "25%        61,595.00\n",
              "50%        96,000.00\n",
              "75%       145,000.00\n",
              "max     2,180,000.00\n",
              "Name: salary_monthly_BRUTO, dtype: float64"
            ]
          },
          "metadata": {},
          "execution_count": 15
        }
      ],
      "source": [
        "#Descripción de datos sin filtros\n",
        "\n",
        "df.salary_monthly_BRUTO.describe()"
      ]
    },
    {
      "cell_type": "code",
      "execution_count": 16,
      "metadata": {
        "colab": {
          "base_uri": "https://localhost:8080/",
          "height": 143
        },
        "id": "J61MtWm7TIgg",
        "outputId": "557c9429-1d67-42bd-a8c4-7b0e46a4cf62"
      },
      "outputs": [
        {
          "output_type": "execute_result",
          "data": {
            "text/plain": [
              "                                count       mean        std  min        25%  \\\n",
              "salary_in_usd                                                                 \n",
              "Mi sueldo está dolarizado      676.00 261,119.12 225,551.83 2.00 119,805.00   \n",
              "Mi sueldo no está dolarizado 5,419.00 106,960.76  89,543.62 1.00  60,000.00   \n",
              "\n",
              "                                    50%        75%          max  \n",
              "salary_in_usd                                                    \n",
              "Mi sueldo está dolarizado    195,500.00 350,000.00 2,080,000.00  \n",
              "Mi sueldo no está dolarizado  90,000.00 134,000.00 2,180,000.00  "
            ],
            "text/html": [
              "\n",
              "  <div id=\"df-632ab50b-de35-42ba-a56d-40c4ace8a6f6\">\n",
              "    <div class=\"colab-df-container\">\n",
              "      <div>\n",
              "<style scoped>\n",
              "    .dataframe tbody tr th:only-of-type {\n",
              "        vertical-align: middle;\n",
              "    }\n",
              "\n",
              "    .dataframe tbody tr th {\n",
              "        vertical-align: top;\n",
              "    }\n",
              "\n",
              "    .dataframe thead th {\n",
              "        text-align: right;\n",
              "    }\n",
              "</style>\n",
              "<table border=\"1\" class=\"dataframe\">\n",
              "  <thead>\n",
              "    <tr style=\"text-align: right;\">\n",
              "      <th></th>\n",
              "      <th>count</th>\n",
              "      <th>mean</th>\n",
              "      <th>std</th>\n",
              "      <th>min</th>\n",
              "      <th>25%</th>\n",
              "      <th>50%</th>\n",
              "      <th>75%</th>\n",
              "      <th>max</th>\n",
              "    </tr>\n",
              "    <tr>\n",
              "      <th>salary_in_usd</th>\n",
              "      <th></th>\n",
              "      <th></th>\n",
              "      <th></th>\n",
              "      <th></th>\n",
              "      <th></th>\n",
              "      <th></th>\n",
              "      <th></th>\n",
              "      <th></th>\n",
              "    </tr>\n",
              "  </thead>\n",
              "  <tbody>\n",
              "    <tr>\n",
              "      <th>Mi sueldo está dolarizado</th>\n",
              "      <td>676.00</td>\n",
              "      <td>261,119.12</td>\n",
              "      <td>225,551.83</td>\n",
              "      <td>2.00</td>\n",
              "      <td>119,805.00</td>\n",
              "      <td>195,500.00</td>\n",
              "      <td>350,000.00</td>\n",
              "      <td>2,080,000.00</td>\n",
              "    </tr>\n",
              "    <tr>\n",
              "      <th>Mi sueldo no está dolarizado</th>\n",
              "      <td>5,419.00</td>\n",
              "      <td>106,960.76</td>\n",
              "      <td>89,543.62</td>\n",
              "      <td>1.00</td>\n",
              "      <td>60,000.00</td>\n",
              "      <td>90,000.00</td>\n",
              "      <td>134,000.00</td>\n",
              "      <td>2,180,000.00</td>\n",
              "    </tr>\n",
              "  </tbody>\n",
              "</table>\n",
              "</div>\n",
              "      <button class=\"colab-df-convert\" onclick=\"convertToInteractive('df-632ab50b-de35-42ba-a56d-40c4ace8a6f6')\"\n",
              "              title=\"Convert this dataframe to an interactive table.\"\n",
              "              style=\"display:none;\">\n",
              "        \n",
              "  <svg xmlns=\"http://www.w3.org/2000/svg\" height=\"24px\"viewBox=\"0 0 24 24\"\n",
              "       width=\"24px\">\n",
              "    <path d=\"M0 0h24v24H0V0z\" fill=\"none\"/>\n",
              "    <path d=\"M18.56 5.44l.94 2.06.94-2.06 2.06-.94-2.06-.94-.94-2.06-.94 2.06-2.06.94zm-11 1L8.5 8.5l.94-2.06 2.06-.94-2.06-.94L8.5 2.5l-.94 2.06-2.06.94zm10 10l.94 2.06.94-2.06 2.06-.94-2.06-.94-.94-2.06-.94 2.06-2.06.94z\"/><path d=\"M17.41 7.96l-1.37-1.37c-.4-.4-.92-.59-1.43-.59-.52 0-1.04.2-1.43.59L10.3 9.45l-7.72 7.72c-.78.78-.78 2.05 0 2.83L4 21.41c.39.39.9.59 1.41.59.51 0 1.02-.2 1.41-.59l7.78-7.78 2.81-2.81c.8-.78.8-2.07 0-2.86zM5.41 20L4 18.59l7.72-7.72 1.47 1.35L5.41 20z\"/>\n",
              "  </svg>\n",
              "      </button>\n",
              "      \n",
              "  <style>\n",
              "    .colab-df-container {\n",
              "      display:flex;\n",
              "      flex-wrap:wrap;\n",
              "      gap: 12px;\n",
              "    }\n",
              "\n",
              "    .colab-df-convert {\n",
              "      background-color: #E8F0FE;\n",
              "      border: none;\n",
              "      border-radius: 50%;\n",
              "      cursor: pointer;\n",
              "      display: none;\n",
              "      fill: #1967D2;\n",
              "      height: 32px;\n",
              "      padding: 0 0 0 0;\n",
              "      width: 32px;\n",
              "    }\n",
              "\n",
              "    .colab-df-convert:hover {\n",
              "      background-color: #E2EBFA;\n",
              "      box-shadow: 0px 1px 2px rgba(60, 64, 67, 0.3), 0px 1px 3px 1px rgba(60, 64, 67, 0.15);\n",
              "      fill: #174EA6;\n",
              "    }\n",
              "\n",
              "    [theme=dark] .colab-df-convert {\n",
              "      background-color: #3B4455;\n",
              "      fill: #D2E3FC;\n",
              "    }\n",
              "\n",
              "    [theme=dark] .colab-df-convert:hover {\n",
              "      background-color: #434B5C;\n",
              "      box-shadow: 0px 1px 3px 1px rgba(0, 0, 0, 0.15);\n",
              "      filter: drop-shadow(0px 1px 2px rgba(0, 0, 0, 0.3));\n",
              "      fill: #FFFFFF;\n",
              "    }\n",
              "  </style>\n",
              "\n",
              "      <script>\n",
              "        const buttonEl =\n",
              "          document.querySelector('#df-632ab50b-de35-42ba-a56d-40c4ace8a6f6 button.colab-df-convert');\n",
              "        buttonEl.style.display =\n",
              "          google.colab.kernel.accessAllowed ? 'block' : 'none';\n",
              "\n",
              "        async function convertToInteractive(key) {\n",
              "          const element = document.querySelector('#df-632ab50b-de35-42ba-a56d-40c4ace8a6f6');\n",
              "          const dataTable =\n",
              "            await google.colab.kernel.invokeFunction('convertToInteractive',\n",
              "                                                     [key], {});\n",
              "          if (!dataTable) return;\n",
              "\n",
              "          const docLinkHtml = 'Like what you see? Visit the ' +\n",
              "            '<a target=\"_blank\" href=https://colab.research.google.com/notebooks/data_table.ipynb>data table notebook</a>'\n",
              "            + ' to learn more about interactive tables.';\n",
              "          element.innerHTML = '';\n",
              "          dataTable['output_type'] = 'display_data';\n",
              "          await google.colab.output.renderOutput(dataTable, element);\n",
              "          const docLink = document.createElement('div');\n",
              "          docLink.innerHTML = docLinkHtml;\n",
              "          element.appendChild(docLink);\n",
              "        }\n",
              "      </script>\n",
              "    </div>\n",
              "  </div>\n",
              "  "
            ]
          },
          "metadata": {},
          "execution_count": 16
        }
      ],
      "source": [
        "#Descripción de datos agrupado por salario en dólares:\n",
        "\n",
        "df['salary_monthly_BRUTO'].groupby(df['salary_in_usd']).describe()"
      ]
    },
    {
      "cell_type": "markdown",
      "metadata": {
        "id": "aN9_N6uvlFhc"
      },
      "source": [
        "#### Se agrega un gráfico para una mejor visualización de los datos."
      ]
    },
    {
      "cell_type": "code",
      "execution_count": 17,
      "metadata": {
        "colab": {
          "base_uri": "https://localhost:8080/",
          "height": 627
        },
        "id": "xCSyRb2FlJqL",
        "outputId": "95527484-389f-4789-cada-cdef068b8d3e"
      },
      "outputs": [
        {
          "output_type": "display_data",
          "data": {
            "text/plain": [
              "<Figure size 1080x720 with 1 Axes>"
            ],
            "image/png": "[encoded data removed]"
          },
          "metadata": {
            "needs_background": "light"
          }
        }
      ],
      "source": [
        "fig = plt.figure(figsize=(15,10))\n",
        "\n",
        "seaborn.boxplot(data = df,\n",
        "                x = 'salary_monthly_BRUTO',\n",
        "                y = 'salary_in_usd',\n",
        "                color = '#77d1e6',            \n",
        "               )\n",
        "\n",
        "plt.ticklabel_format(style = 'plain',\n",
        "                     axis = 'x'\n",
        "                    )\n",
        "\n",
        "plt.xlabel('Salario mensual bruto')\n",
        "plt.ylabel('')\n",
        "\n",
        "plt.show()"
      ]
    },
    {
      "cell_type": "markdown",
      "metadata": {
        "id": "kvKhSm3gZR-J"
      },
      "source": [
        "#### Observando los datos resultados de la descripción de datos para los 3 casos descritos en la parte de arriba, se encuentra que el sueldo dolarizado es mejor ya que es mayor.\n",
        "\n",
        "Hay que tener en cuenta que se tienen mínimos demasiados bajos que dan la pauta que pueden haber errores en los datos por ende se van a eliminar valores extremos para tener un análisis más enfocado en valores reales.\n",
        "\n",
        "Investigando se tiene que el salario mínimo, vital y móvil para el periódo en el que se realizó la encuesta (Octubre 2020) era de $18.900 , por lo que parece un buen parámetro para filtrar el dataset y que sea el mínimo de la columna salary_monthly_BRUTO.\n",
        "Para el caso de los máximos se considera que existen casos particulares que pueden cobrar esos salarios altos.\n",
        "\n",
        "A continuación se muestra el código implementando este filtro:\n"
      ]
    },
    {
      "cell_type": "code",
      "execution_count": 18,
      "metadata": {
        "colab": {
          "base_uri": "https://localhost:8080/",
          "height": 143
        },
        "id": "cT6hfP9zbNiZ",
        "outputId": "7cfb15cb-3099-494e-e438-2bec63b2beea"
      },
      "outputs": [
        {
          "output_type": "execute_result",
          "data": {
            "text/plain": [
              "                                count       mean        std       min  \\\n",
              "salary_in_usd                                                           \n",
              "Mi sueldo está dolarizado      652.00 270,676.76 223,991.28 20,000.00   \n",
              "Mi sueldo no está dolarizado 5,210.00 111,127.09  88,816.10 19,925.00   \n",
              "\n",
              "                                    25%        50%        75%          max  \n",
              "salary_in_usd                                                               \n",
              "Mi sueldo está dolarizado    122,250.00 200,000.00 350,000.00 2,080,000.00  \n",
              "Mi sueldo no está dolarizado  63,000.00  93,000.00 136,000.00 2,180,000.00  "
            ],
            "text/html": [
              "\n",
              "  <div id=\"df-7f5f77be-c192-4e1b-8dc7-c2173d610036\">\n",
              "    <div class=\"colab-df-container\">\n",
              "      <div>\n",
              "<style scoped>\n",
              "    .dataframe tbody tr th:only-of-type {\n",
              "        vertical-align: middle;\n",
              "    }\n",
              "\n",
              "    .dataframe tbody tr th {\n",
              "        vertical-align: top;\n",
              "    }\n",
              "\n",
              "    .dataframe thead th {\n",
              "        text-align: right;\n",
              "    }\n",
              "</style>\n",
              "<table border=\"1\" class=\"dataframe\">\n",
              "  <thead>\n",
              "    <tr style=\"text-align: right;\">\n",
              "      <th></th>\n",
              "      <th>count</th>\n",
              "      <th>mean</th>\n",
              "      <th>std</th>\n",
              "      <th>min</th>\n",
              "      <th>25%</th>\n",
              "      <th>50%</th>\n",
              "      <th>75%</th>\n",
              "      <th>max</th>\n",
              "    </tr>\n",
              "    <tr>\n",
              "      <th>salary_in_usd</th>\n",
              "      <th></th>\n",
              "      <th></th>\n",
              "      <th></th>\n",
              "      <th></th>\n",
              "      <th></th>\n",
              "      <th></th>\n",
              "      <th></th>\n",
              "      <th></th>\n",
              "    </tr>\n",
              "  </thead>\n",
              "  <tbody>\n",
              "    <tr>\n",
              "      <th>Mi sueldo está dolarizado</th>\n",
              "      <td>652.00</td>\n",
              "      <td>270,676.76</td>\n",
              "      <td>223,991.28</td>\n",
              "      <td>20,000.00</td>\n",
              "      <td>122,250.00</td>\n",
              "      <td>200,000.00</td>\n",
              "      <td>350,000.00</td>\n",
              "      <td>2,080,000.00</td>\n",
              "    </tr>\n",
              "    <tr>\n",
              "      <th>Mi sueldo no está dolarizado</th>\n",
              "      <td>5,210.00</td>\n",
              "      <td>111,127.09</td>\n",
              "      <td>88,816.10</td>\n",
              "      <td>19,925.00</td>\n",
              "      <td>63,000.00</td>\n",
              "      <td>93,000.00</td>\n",
              "      <td>136,000.00</td>\n",
              "      <td>2,180,000.00</td>\n",
              "    </tr>\n",
              "  </tbody>\n",
              "</table>\n",
              "</div>\n",
              "      <button class=\"colab-df-convert\" onclick=\"convertToInteractive('df-7f5f77be-c192-4e1b-8dc7-c2173d610036')\"\n",
              "              title=\"Convert this dataframe to an interactive table.\"\n",
              "              style=\"display:none;\">\n",
              "        \n",
              "  <svg xmlns=\"http://www.w3.org/2000/svg\" height=\"24px\"viewBox=\"0 0 24 24\"\n",
              "       width=\"24px\">\n",
              "    <path d=\"M0 0h24v24H0V0z\" fill=\"none\"/>\n",
              "    <path d=\"M18.56 5.44l.94 2.06.94-2.06 2.06-.94-2.06-.94-.94-2.06-.94 2.06-2.06.94zm-11 1L8.5 8.5l.94-2.06 2.06-.94-2.06-.94L8.5 2.5l-.94 2.06-2.06.94zm10 10l.94 2.06.94-2.06 2.06-.94-2.06-.94-.94-2.06-.94 2.06-2.06.94z\"/><path d=\"M17.41 7.96l-1.37-1.37c-.4-.4-.92-.59-1.43-.59-.52 0-1.04.2-1.43.59L10.3 9.45l-7.72 7.72c-.78.78-.78 2.05 0 2.83L4 21.41c.39.39.9.59 1.41.59.51 0 1.02-.2 1.41-.59l7.78-7.78 2.81-2.81c.8-.78.8-2.07 0-2.86zM5.41 20L4 18.59l7.72-7.72 1.47 1.35L5.41 20z\"/>\n",
              "  </svg>\n",
              "      </button>\n",
              "      \n",
              "  <style>\n",
              "    .colab-df-container {\n",
              "      display:flex;\n",
              "      flex-wrap:wrap;\n",
              "      gap: 12px;\n",
              "    }\n",
              "\n",
              "    .colab-df-convert {\n",
              "      background-color: #E8F0FE;\n",
              "      border: none;\n",
              "      border-radius: 50%;\n",
              "      cursor: pointer;\n",
              "      display: none;\n",
              "      fill: #1967D2;\n",
              "      height: 32px;\n",
              "      padding: 0 0 0 0;\n",
              "      width: 32px;\n",
              "    }\n",
              "\n",
              "    .colab-df-convert:hover {\n",
              "      background-color: #E2EBFA;\n",
              "      box-shadow: 0px 1px 2px rgba(60, 64, 67, 0.3), 0px 1px 3px 1px rgba(60, 64, 67, 0.15);\n",
              "      fill: #174EA6;\n",
              "    }\n",
              "\n",
              "    [theme=dark] .colab-df-convert {\n",
              "      background-color: #3B4455;\n",
              "      fill: #D2E3FC;\n",
              "    }\n",
              "\n",
              "    [theme=dark] .colab-df-convert:hover {\n",
              "      background-color: #434B5C;\n",
              "      box-shadow: 0px 1px 3px 1px rgba(0, 0, 0, 0.15);\n",
              "      filter: drop-shadow(0px 1px 2px rgba(0, 0, 0, 0.3));\n",
              "      fill: #FFFFFF;\n",
              "    }\n",
              "  </style>\n",
              "\n",
              "      <script>\n",
              "        const buttonEl =\n",
              "          document.querySelector('#df-7f5f77be-c192-4e1b-8dc7-c2173d610036 button.colab-df-convert');\n",
              "        buttonEl.style.display =\n",
              "          google.colab.kernel.accessAllowed ? 'block' : 'none';\n",
              "\n",
              "        async function convertToInteractive(key) {\n",
              "          const element = document.querySelector('#df-7f5f77be-c192-4e1b-8dc7-c2173d610036');\n",
              "          const dataTable =\n",
              "            await google.colab.kernel.invokeFunction('convertToInteractive',\n",
              "                                                     [key], {});\n",
              "          if (!dataTable) return;\n",
              "\n",
              "          const docLinkHtml = 'Like what you see? Visit the ' +\n",
              "            '<a target=\"_blank\" href=https://colab.research.google.com/notebooks/data_table.ipynb>data table notebook</a>'\n",
              "            + ' to learn more about interactive tables.';\n",
              "          element.innerHTML = '';\n",
              "          dataTable['output_type'] = 'display_data';\n",
              "          await google.colab.output.renderOutput(dataTable, element);\n",
              "          const docLink = document.createElement('div');\n",
              "          docLink.innerHTML = docLinkHtml;\n",
              "          element.appendChild(docLink);\n",
              "        }\n",
              "      </script>\n",
              "    </div>\n",
              "  </div>\n",
              "  "
            ]
          },
          "metadata": {},
          "execution_count": 18
        }
      ],
      "source": [
        "# Se crea un nuevo dataset con sólo los valores de salario mensual bruto mayores a $18.900\n",
        "\n",
        "dfn = df.loc[df['salary_monthly_BRUTO'] > 18900]\n",
        "\n",
        "# Se muestra nuevamente la descripción de los datos agrupados por salario en dólares:\n",
        "\n",
        "dfn['salary_monthly_BRUTO'].groupby(dfn['salary_in_usd']).describe()"
      ]
    },
    {
      "cell_type": "markdown",
      "metadata": {
        "id": "fk316dE1bCMU"
      },
      "source": [
        "#### Se observa que la diferencia en los datos es mínima, por lo que los mínimos no generan una afectación de importancia en la descripción de los datos."
      ]
    },
    {
      "cell_type": "markdown",
      "metadata": {
        "id": "NsPjFceSc_RH"
      },
      "source": [
        "#### Se genera un nuevo dataset **utilizando únicamente los salarios en dólares**\n",
        "\n"
      ]
    },
    {
      "cell_type": "code",
      "execution_count": 19,
      "metadata": {
        "colab": {
          "base_uri": "https://localhost:8080/",
          "height": 800
        },
        "id": "7I2Tmy5Tdd1-",
        "outputId": "69aa3438-ce2d-477b-b632-fbcae790cd6e"
      },
      "outputs": [
        {
          "output_type": "execute_result",
          "data": {
            "text/plain": [
              "     profile_gender  profile_age work_country  \\\n",
              "14           Hombre           42    Argentina   \n",
              "25            Mujer           30    Argentina   \n",
              "41           Hombre           35    Argentina   \n",
              "43           Hombre           45    Argentina   \n",
              "60           Hombre           50    Argentina   \n",
              "...             ...          ...          ...   \n",
              "6021         Hombre           35    Argentina   \n",
              "6024         Hombre           39    Argentina   \n",
              "6079         Hombre           28    Argentina   \n",
              "6080         Hombre           30    Argentina   \n",
              "6084          Mujer           30    Argentina   \n",
              "\n",
              "                        work_province  profile_years_experience  \\\n",
              "14                            Córdoba                     10.00   \n",
              "25    Ciudad Autónoma de Buenos Aires                     12.00   \n",
              "41    Ciudad Autónoma de Buenos Aires                     15.00   \n",
              "43                            Córdoba                     29.00   \n",
              "60    Ciudad Autónoma de Buenos Aires                     30.00   \n",
              "...                               ...                       ...   \n",
              "6021  Ciudad Autónoma de Buenos Aires                     14.00   \n",
              "6024                         Santa Fe                     18.00   \n",
              "6079        Provincia de Buenos Aires                      2.00   \n",
              "6080                         San Luis                      5.00   \n",
              "6084  Ciudad Autónoma de Buenos Aires                      5.00   \n",
              "\n",
              "      work_years_in_company  work_years_in_current_position  \\\n",
              "14                     0.00                            0.00   \n",
              "25                     0.00                            4.00   \n",
              "41                     3.00                            1.50   \n",
              "43                     2.00                            2.00   \n",
              "60                     4.00                            4.00   \n",
              "...                     ...                             ...   \n",
              "6021                   1.00                            8.00   \n",
              "6024                   2.00                            2.00   \n",
              "6079                   0.00                            2.00   \n",
              "6080                   2.00                            2.00   \n",
              "6084                   0.00                            0.00   \n",
              "\n",
              "      work_people_in_charge_of profile_studies_level  \\\n",
              "14                           3         Universitario   \n",
              "25                          14         Universitario   \n",
              "41                          16         Universitario   \n",
              "43                           0         Universitario   \n",
              "60                          24         Universitario   \n",
              "...                        ...                   ...   \n",
              "6021                         0         Universitario   \n",
              "6024                         0         Universitario   \n",
              "6079                         0         Universitario   \n",
              "6080                         0             Terciario   \n",
              "6084                         0         Universitario   \n",
              "\n",
              "     profile_studies_level_state  ... work_has_violence_situations  \\\n",
              "14                    Incompleto  ...                        Jamás   \n",
              "25                    Completado  ...       En un trabajo anterior   \n",
              "41                    Incompleto  ...                        Jamás   \n",
              "43                    Incompleto  ...         En mi trabajo actual   \n",
              "60                    Incompleto  ...       En un trabajo anterior   \n",
              "...                          ...  ...                          ...   \n",
              "6021                  Completado  ...       En un trabajo anterior   \n",
              "6024                  Completado  ...                        Jamás   \n",
              "6079                  Incompleto  ...                        Jamás   \n",
              "6080                  Incompleto  ...       En un trabajo anterior   \n",
              "6084                  Completado  ...       En un trabajo anterior   \n",
              "\n",
              "     profile_sexual_orientation profile_has_disabilities  \\\n",
              "14                 Heterosexual                      NaN   \n",
              "25                 Heterosexual                      NaN   \n",
              "41                 Heterosexual                      NaN   \n",
              "43                 Heterosexual                      NaN   \n",
              "60            ¿Qué les importa?                      NaN   \n",
              "...                         ...                      ...   \n",
              "6021               Heterosexual                      NaN   \n",
              "6024          ¿Qué les importa?                      NaN   \n",
              "6079               Heterosexual                      NaN   \n",
              "6080               Heterosexual                      NaN   \n",
              "6084               Heterosexual                      NaN   \n",
              "\n",
              "     profile_has_disabilities_hiring_difficulties company_employee_number  \\\n",
              "14                                            NaN               2001-5000   \n",
              "25                                            NaN                   11-50   \n",
              "41                                             No                 201-500   \n",
              "43                                            NaN                   11-50   \n",
              "60                                            NaN                    1-10   \n",
              "...                                           ...                     ...   \n",
              "6021                                          NaN                 201-500   \n",
              "6024                                          NaN                 101-200   \n",
              "6079                                          NaN                 201-500   \n",
              "6080                                           No                501-1000   \n",
              "6084                                          NaN                 101-200   \n",
              "\n",
              "                              company_main_activity company_recommended  \\\n",
              "14    Servicios / Consultoría de Software / Digital                   3   \n",
              "25    Servicios / Consultoría de Software / Digital                   8   \n",
              "41                      Producto basado en Software                   9   \n",
              "43    Servicios / Consultoría de Software / Digital                   9   \n",
              "60                      Producto basado en Software                   9   \n",
              "...                                             ...                 ...   \n",
              "6021                    Producto basado en Software                  10   \n",
              "6024                    Producto basado en Software                   7   \n",
              "6079  Servicios / Consultoría de Software / Digital                  10   \n",
              "6080  Servicios / Consultoría de Software / Digital                  10   \n",
              "6084  Servicios / Consultoría de Software / Digital                   8   \n",
              "\n",
              "     company_diversity_policies  \\\n",
              "14                            7   \n",
              "25                            4   \n",
              "41                           10   \n",
              "43                            7   \n",
              "60                            6   \n",
              "...                         ...   \n",
              "6021                         10   \n",
              "6024                          9   \n",
              "6079                          8   \n",
              "6080                         10   \n",
              "6084                          5   \n",
              "\n",
              "                                 company_extra_benefits  \\\n",
              "14    Descuentos varios (Mercado Pago, Clarín 365, C...   \n",
              "25    Clases de idiomas, Horarios flexibles, Vacacio...   \n",
              "41    Abono de celular, Capacitaciones y/o cursos, C...   \n",
              "43                                    Clases de idiomas   \n",
              "60    Cuota para universidad / posgrados, Horarios f...   \n",
              "...                                                 ...   \n",
              "6021  Comidas pagas / subvencionadas, Estacionamient...   \n",
              "6024  Horarios flexibles, Vacaciones flexibles (adic...   \n",
              "6079                          Ninguna de las anteriores   \n",
              "6080  Clases de idiomas, Estacionamiento gratuito / ...   \n",
              "6084  Capacitaciones y/o cursos, Clases de idiomas, ...   \n",
              "\n",
              "            company_best_companies_city  \n",
              "14                                  NaN  \n",
              "25                                  NaN  \n",
              "41            Medallia, auth0, wildlife  \n",
              "43                                  NaN  \n",
              "60                                  NaN  \n",
              "...                                 ...  \n",
              "6021                                NaN  \n",
              "6024                                NaN  \n",
              "6079                                NaN  \n",
              "6080  Init ag, Computercenter, DKB, n26  \n",
              "6084                                NaN  \n",
              "\n",
              "[676 rows x 48 columns]"
            ],
            "text/html": [
              "\n",
              "  <div id=\"df-60f7e9f9-7b0a-4d73-8c9a-1815660ce431\">\n",
              "    <div class=\"colab-df-container\">\n",
              "      <div>\n",
              "<style scoped>\n",
              "    .dataframe tbody tr th:only-of-type {\n",
              "        vertical-align: middle;\n",
              "    }\n",
              "\n",
              "    .dataframe tbody tr th {\n",
              "        vertical-align: top;\n",
              "    }\n",
              "\n",
              "    .dataframe thead th {\n",
              "        text-align: right;\n",
              "    }\n",
              "</style>\n",
              "<table border=\"1\" class=\"dataframe\">\n",
              "  <thead>\n",
              "    <tr style=\"text-align: right;\">\n",
              "      <th></th>\n",
              "      <th>profile_gender</th>\n",
              "      <th>profile_age</th>\n",
              "      <th>work_country</th>\n",
              "      <th>work_province</th>\n",
              "      <th>profile_years_experience</th>\n",
              "      <th>work_years_in_company</th>\n",
              "      <th>work_years_in_current_position</th>\n",
              "      <th>work_people_in_charge_of</th>\n",
              "      <th>profile_studies_level</th>\n",
              "      <th>profile_studies_level_state</th>\n",
              "      <th>...</th>\n",
              "      <th>work_has_violence_situations</th>\n",
              "      <th>profile_sexual_orientation</th>\n",
              "      <th>profile_has_disabilities</th>\n",
              "      <th>profile_has_disabilities_hiring_difficulties</th>\n",
              "      <th>company_employee_number</th>\n",
              "      <th>company_main_activity</th>\n",
              "      <th>company_recommended</th>\n",
              "      <th>company_diversity_policies</th>\n",
              "      <th>company_extra_benefits</th>\n",
              "      <th>company_best_companies_city</th>\n",
              "    </tr>\n",
              "  </thead>\n",
              "  <tbody>\n",
              "    <tr>\n",
              "      <th>14</th>\n",
              "      <td>Hombre</td>\n",
              "      <td>42</td>\n",
              "      <td>Argentina</td>\n",
              "      <td>Córdoba</td>\n",
              "      <td>10.00</td>\n",
              "      <td>0.00</td>\n",
              "      <td>0.00</td>\n",
              "      <td>3</td>\n",
              "      <td>Universitario</td>\n",
              "      <td>Incompleto</td>\n",
              "      <td>...</td>\n",
              "      <td>Jamás</td>\n",
              "      <td>Heterosexual</td>\n",
              "      <td>NaN</td>\n",
              "      <td>NaN</td>\n",
              "      <td>2001-5000</td>\n",
              "      <td>Servicios / Consultoría de Software / Digital</td>\n",
              "      <td>3</td>\n",
              "      <td>7</td>\n",
              "      <td>Descuentos varios (Mercado Pago, Clarín 365, C...</td>\n",
              "      <td>NaN</td>\n",
              "    </tr>\n",
              "    <tr>\n",
              "      <th>25</th>\n",
              "      <td>Mujer</td>\n",
              "      <td>30</td>\n",
              "      <td>Argentina</td>\n",
              "      <td>Ciudad Autónoma de Buenos Aires</td>\n",
              "      <td>12.00</td>\n",
              "      <td>0.00</td>\n",
              "      <td>4.00</td>\n",
              "      <td>14</td>\n",
              "      <td>Universitario</td>\n",
              "      <td>Completado</td>\n",
              "      <td>...</td>\n",
              "      <td>En un trabajo anterior</td>\n",
              "      <td>Heterosexual</td>\n",
              "      <td>NaN</td>\n",
              "      <td>NaN</td>\n",
              "      <td>11-50</td>\n",
              "      <td>Servicios / Consultoría de Software / Digital</td>\n",
              "      <td>8</td>\n",
              "      <td>4</td>\n",
              "      <td>Clases de idiomas, Horarios flexibles, Vacacio...</td>\n",
              "      <td>NaN</td>\n",
              "    </tr>\n",
              "    <tr>\n",
              "      <th>41</th>\n",
              "      <td>Hombre</td>\n",
              "      <td>35</td>\n",
              "      <td>Argentina</td>\n",
              "      <td>Ciudad Autónoma de Buenos Aires</td>\n",
              "      <td>15.00</td>\n",
              "      <td>3.00</td>\n",
              "      <td>1.50</td>\n",
              "      <td>16</td>\n",
              "      <td>Universitario</td>\n",
              "      <td>Incompleto</td>\n",
              "      <td>...</td>\n",
              "      <td>Jamás</td>\n",
              "      <td>Heterosexual</td>\n",
              "      <td>NaN</td>\n",
              "      <td>No</td>\n",
              "      <td>201-500</td>\n",
              "      <td>Producto basado en Software</td>\n",
              "      <td>9</td>\n",
              "      <td>10</td>\n",
              "      <td>Abono de celular, Capacitaciones y/o cursos, C...</td>\n",
              "      <td>Medallia, auth0, wildlife</td>\n",
              "    </tr>\n",
              "    <tr>\n",
              "      <th>43</th>\n",
              "      <td>Hombre</td>\n",
              "      <td>45</td>\n",
              "      <td>Argentina</td>\n",
              "      <td>Córdoba</td>\n",
              "      <td>29.00</td>\n",
              "      <td>2.00</td>\n",
              "      <td>2.00</td>\n",
              "      <td>0</td>\n",
              "      <td>Universitario</td>\n",
              "      <td>Incompleto</td>\n",
              "      <td>...</td>\n",
              "      <td>En mi trabajo actual</td>\n",
              "      <td>Heterosexual</td>\n",
              "      <td>NaN</td>\n",
              "      <td>NaN</td>\n",
              "      <td>11-50</td>\n",
              "      <td>Servicios / Consultoría de Software / Digital</td>\n",
              "      <td>9</td>\n",
              "      <td>7</td>\n",
              "      <td>Clases de idiomas</td>\n",
              "      <td>NaN</td>\n",
              "    </tr>\n",
              "    <tr>\n",
              "      <th>60</th>\n",
              "      <td>Hombre</td>\n",
              "      <td>50</td>\n",
              "      <td>Argentina</td>\n",
              "      <td>Ciudad Autónoma de Buenos Aires</td>\n",
              "      <td>30.00</td>\n",
              "      <td>4.00</td>\n",
              "      <td>4.00</td>\n",
              "      <td>24</td>\n",
              "      <td>Universitario</td>\n",
              "      <td>Incompleto</td>\n",
              "      <td>...</td>\n",
              "      <td>En un trabajo anterior</td>\n",
              "      <td>¿Qué les importa?</td>\n",
              "      <td>NaN</td>\n",
              "      <td>NaN</td>\n",
              "      <td>1-10</td>\n",
              "      <td>Producto basado en Software</td>\n",
              "      <td>9</td>\n",
              "      <td>6</td>\n",
              "      <td>Cuota para universidad / posgrados, Horarios f...</td>\n",
              "      <td>NaN</td>\n",
              "    </tr>\n",
              "    <tr>\n",
              "      <th>...</th>\n",
              "      <td>...</td>\n",
              "      <td>...</td>\n",
              "      <td>...</td>\n",
              "      <td>...</td>\n",
              "      <td>...</td>\n",
              "      <td>...</td>\n",
              "      <td>...</td>\n",
              "      <td>...</td>\n",
              "      <td>...</td>\n",
              "      <td>...</td>\n",
              "      <td>...</td>\n",
              "      <td>...</td>\n",
              "      <td>...</td>\n",
              "      <td>...</td>\n",
              "      <td>...</td>\n",
              "      <td>...</td>\n",
              "      <td>...</td>\n",
              "      <td>...</td>\n",
              "      <td>...</td>\n",
              "      <td>...</td>\n",
              "      <td>...</td>\n",
              "    </tr>\n",
              "    <tr>\n",
              "      <th>6021</th>\n",
              "      <td>Hombre</td>\n",
              "      <td>35</td>\n",
              "      <td>Argentina</td>\n",
              "      <td>Ciudad Autónoma de Buenos Aires</td>\n",
              "      <td>14.00</td>\n",
              "      <td>1.00</td>\n",
              "      <td>8.00</td>\n",
              "      <td>0</td>\n",
              "      <td>Universitario</td>\n",
              "      <td>Completado</td>\n",
              "      <td>...</td>\n",
              "      <td>En un trabajo anterior</td>\n",
              "      <td>Heterosexual</td>\n",
              "      <td>NaN</td>\n",
              "      <td>NaN</td>\n",
              "      <td>201-500</td>\n",
              "      <td>Producto basado en Software</td>\n",
              "      <td>10</td>\n",
              "      <td>10</td>\n",
              "      <td>Comidas pagas / subvencionadas, Estacionamient...</td>\n",
              "      <td>NaN</td>\n",
              "    </tr>\n",
              "    <tr>\n",
              "      <th>6024</th>\n",
              "      <td>Hombre</td>\n",
              "      <td>39</td>\n",
              "      <td>Argentina</td>\n",
              "      <td>Santa Fe</td>\n",
              "      <td>18.00</td>\n",
              "      <td>2.00</td>\n",
              "      <td>2.00</td>\n",
              "      <td>0</td>\n",
              "      <td>Universitario</td>\n",
              "      <td>Completado</td>\n",
              "      <td>...</td>\n",
              "      <td>Jamás</td>\n",
              "      <td>¿Qué les importa?</td>\n",
              "      <td>NaN</td>\n",
              "      <td>NaN</td>\n",
              "      <td>101-200</td>\n",
              "      <td>Producto basado en Software</td>\n",
              "      <td>7</td>\n",
              "      <td>9</td>\n",
              "      <td>Horarios flexibles, Vacaciones flexibles (adic...</td>\n",
              "      <td>NaN</td>\n",
              "    </tr>\n",
              "    <tr>\n",
              "      <th>6079</th>\n",
              "      <td>Hombre</td>\n",
              "      <td>28</td>\n",
              "      <td>Argentina</td>\n",
              "      <td>Provincia de Buenos Aires</td>\n",
              "      <td>2.00</td>\n",
              "      <td>0.00</td>\n",
              "      <td>2.00</td>\n",
              "      <td>0</td>\n",
              "      <td>Universitario</td>\n",
              "      <td>Incompleto</td>\n",
              "      <td>...</td>\n",
              "      <td>Jamás</td>\n",
              "      <td>Heterosexual</td>\n",
              "      <td>NaN</td>\n",
              "      <td>NaN</td>\n",
              "      <td>201-500</td>\n",
              "      <td>Servicios / Consultoría de Software / Digital</td>\n",
              "      <td>10</td>\n",
              "      <td>8</td>\n",
              "      <td>Ninguna de las anteriores</td>\n",
              "      <td>NaN</td>\n",
              "    </tr>\n",
              "    <tr>\n",
              "      <th>6080</th>\n",
              "      <td>Hombre</td>\n",
              "      <td>30</td>\n",
              "      <td>Argentina</td>\n",
              "      <td>San Luis</td>\n",
              "      <td>5.00</td>\n",
              "      <td>2.00</td>\n",
              "      <td>2.00</td>\n",
              "      <td>0</td>\n",
              "      <td>Terciario</td>\n",
              "      <td>Incompleto</td>\n",
              "      <td>...</td>\n",
              "      <td>En un trabajo anterior</td>\n",
              "      <td>Heterosexual</td>\n",
              "      <td>NaN</td>\n",
              "      <td>No</td>\n",
              "      <td>501-1000</td>\n",
              "      <td>Servicios / Consultoría de Software / Digital</td>\n",
              "      <td>10</td>\n",
              "      <td>10</td>\n",
              "      <td>Clases de idiomas, Estacionamiento gratuito / ...</td>\n",
              "      <td>Init ag, Computercenter, DKB, n26</td>\n",
              "    </tr>\n",
              "    <tr>\n",
              "      <th>6084</th>\n",
              "      <td>Mujer</td>\n",
              "      <td>30</td>\n",
              "      <td>Argentina</td>\n",
              "      <td>Ciudad Autónoma de Buenos Aires</td>\n",
              "      <td>5.00</td>\n",
              "      <td>0.00</td>\n",
              "      <td>0.00</td>\n",
              "      <td>0</td>\n",
              "      <td>Universitario</td>\n",
              "      <td>Completado</td>\n",
              "      <td>...</td>\n",
              "      <td>En un trabajo anterior</td>\n",
              "      <td>Heterosexual</td>\n",
              "      <td>NaN</td>\n",
              "      <td>NaN</td>\n",
              "      <td>101-200</td>\n",
              "      <td>Servicios / Consultoría de Software / Digital</td>\n",
              "      <td>8</td>\n",
              "      <td>5</td>\n",
              "      <td>Capacitaciones y/o cursos, Clases de idiomas, ...</td>\n",
              "      <td>NaN</td>\n",
              "    </tr>\n",
              "  </tbody>\n",
              "</table>\n",
              "<p>676 rows × 48 columns</p>\n",
              "</div>\n",
              "      <button class=\"colab-df-convert\" onclick=\"convertToInteractive('df-60f7e9f9-7b0a-4d73-8c9a-1815660ce431')\"\n",
              "              title=\"Convert this dataframe to an interactive table.\"\n",
              "              style=\"display:none;\">\n",
              "        \n",
              "  <svg xmlns=\"http://www.w3.org/2000/svg\" height=\"24px\"viewBox=\"0 0 24 24\"\n",
              "       width=\"24px\">\n",
              "    <path d=\"M0 0h24v24H0V0z\" fill=\"none\"/>\n",
              "    <path d=\"M18.56 5.44l.94 2.06.94-2.06 2.06-.94-2.06-.94-.94-2.06-.94 2.06-2.06.94zm-11 1L8.5 8.5l.94-2.06 2.06-.94-2.06-.94L8.5 2.5l-.94 2.06-2.06.94zm10 10l.94 2.06.94-2.06 2.06-.94-2.06-.94-.94-2.06-.94 2.06-2.06.94z\"/><path d=\"M17.41 7.96l-1.37-1.37c-.4-.4-.92-.59-1.43-.59-.52 0-1.04.2-1.43.59L10.3 9.45l-7.72 7.72c-.78.78-.78 2.05 0 2.83L4 21.41c.39.39.9.59 1.41.59.51 0 1.02-.2 1.41-.59l7.78-7.78 2.81-2.81c.8-.78.8-2.07 0-2.86zM5.41 20L4 18.59l7.72-7.72 1.47 1.35L5.41 20z\"/>\n",
              "  </svg>\n",
              "      </button>\n",
              "      \n",
              "  <style>\n",
              "    .colab-df-container {\n",
              "      display:flex;\n",
              "      flex-wrap:wrap;\n",
              "      gap: 12px;\n",
              "    }\n",
              "\n",
              "    .colab-df-convert {\n",
              "      background-color: #E8F0FE;\n",
              "      border: none;\n",
              "      border-radius: 50%;\n",
              "      cursor: pointer;\n",
              "      display: none;\n",
              "      fill: #1967D2;\n",
              "      height: 32px;\n",
              "      padding: 0 0 0 0;\n",
              "      width: 32px;\n",
              "    }\n",
              "\n",
              "    .colab-df-convert:hover {\n",
              "      background-color: #E2EBFA;\n",
              "      box-shadow: 0px 1px 2px rgba(60, 64, 67, 0.3), 0px 1px 3px 1px rgba(60, 64, 67, 0.15);\n",
              "      fill: #174EA6;\n",
              "    }\n",
              "\n",
              "    [theme=dark] .colab-df-convert {\n",
              "      background-color: #3B4455;\n",
              "      fill: #D2E3FC;\n",
              "    }\n",
              "\n",
              "    [theme=dark] .colab-df-convert:hover {\n",
              "      background-color: #434B5C;\n",
              "      box-shadow: 0px 1px 3px 1px rgba(0, 0, 0, 0.15);\n",
              "      filter: drop-shadow(0px 1px 2px rgba(0, 0, 0, 0.3));\n",
              "      fill: #FFFFFF;\n",
              "    }\n",
              "  </style>\n",
              "\n",
              "      <script>\n",
              "        const buttonEl =\n",
              "          document.querySelector('#df-60f7e9f9-7b0a-4d73-8c9a-1815660ce431 button.colab-df-convert');\n",
              "        buttonEl.style.display =\n",
              "          google.colab.kernel.accessAllowed ? 'block' : 'none';\n",
              "\n",
              "        async function convertToInteractive(key) {\n",
              "          const element = document.querySelector('#df-60f7e9f9-7b0a-4d73-8c9a-1815660ce431');\n",
              "          const dataTable =\n",
              "            await google.colab.kernel.invokeFunction('convertToInteractive',\n",
              "                                                     [key], {});\n",
              "          if (!dataTable) return;\n",
              "\n",
              "          const docLinkHtml = 'Like what you see? Visit the ' +\n",
              "            '<a target=\"_blank\" href=https://colab.research.google.com/notebooks/data_table.ipynb>data table notebook</a>'\n",
              "            + ' to learn more about interactive tables.';\n",
              "          element.innerHTML = '';\n",
              "          dataTable['output_type'] = 'display_data';\n",
              "          await google.colab.output.renderOutput(dataTable, element);\n",
              "          const docLink = document.createElement('div');\n",
              "          docLink.innerHTML = docLinkHtml;\n",
              "          element.appendChild(docLink);\n",
              "        }\n",
              "      </script>\n",
              "    </div>\n",
              "  </div>\n",
              "  "
            ]
          },
          "metadata": {},
          "execution_count": 19
        }
      ],
      "source": [
        "dfusd = df.loc[df['salary_in_usd'] == 'Mi sueldo está dolarizado']\n",
        "\n",
        "dfusd"
      ]
    },
    {
      "cell_type": "markdown",
      "metadata": {
        "id": "OoGgzMvuEocM"
      },
      "source": [
        "### Conteo de frecuencias de los lenguajes de programación de todo el DF\n",
        "\n",
        "La columna que contiene información sobre los lenguajes de programación utilizados es `tools_programming_languages`. Sus valores son strings con los lenguajes seleccionados separados por comas.\n",
        "\n"
      ]
    },
    {
      "cell_type": "code",
      "execution_count": 20,
      "metadata": {
        "colab": {
          "base_uri": "https://localhost:8080/"
        },
        "id": "J7AB2Ty8SvNl",
        "outputId": "238418fc-2ef7-46d6-a620-ca5be6770224"
      },
      "outputs": [
        {
          "output_type": "execute_result",
          "data": {
            "text/plain": [
              "14    .NET, C#, Delphi, HTML, Java, Javascript, PHP,...\n",
              "25                                              Ninguno\n",
              "41                               Bash/Shell, Go, Python\n",
              "43                                           Bash/Shell\n",
              "60                                 C, C++, Java, Python\n",
              "Name: tools_programming_languages, dtype: object"
            ]
          },
          "metadata": {},
          "execution_count": 20
        }
      ],
      "source": [
        "dfusd.tools_programming_languages.head()"
      ]
    },
    {
      "cell_type": "markdown",
      "metadata": {
        "id": "l8bYmvMhSroH"
      },
      "source": [
        "Las siguientes celdas de código separan estos lenguajes de programación y cuentan la frecuencia con la que aparecen.\n",
        "\n"
      ]
    },
    {
      "cell_type": "code",
      "execution_count": 21,
      "metadata": {
        "colab": {
          "base_uri": "https://localhost:8080/",
          "height": 310
        },
        "id": "PAQ81x3iUP_N",
        "outputId": "4be21166-738f-4c7c-defa-4c6683f32fa8"
      },
      "outputs": [
        {
          "output_type": "stream",
          "name": "stderr",
          "text": [
            "/usr/local/lib/python3.7/dist-packages/pandas/core/indexing.py:1667: SettingWithCopyWarning: \n",
            "A value is trying to be set on a copy of a slice from a DataFrame.\n",
            "Try using .loc[row_indexer,col_indexer] = value instead\n",
            "\n",
            "See the caveats in the documentation: https://pandas.pydata.org/pandas-docs/stable/user_guide/indexing.html#returning-a-view-versus-a-copy\n",
            "  self.obj[key] = value\n"
          ]
        },
        {
          "output_type": "execute_result",
          "data": {
            "text/plain": [
              "   programming_language                        tools_programming_languages  \\\n",
              "14                 .net  .NET, C#, Delphi, HTML, Java, Javascript, PHP,...   \n",
              "14                   c#  .NET, C#, Delphi, HTML, Java, Javascript, PHP,...   \n",
              "14               delphi  .NET, C#, Delphi, HTML, Java, Javascript, PHP,...   \n",
              "14                 html  .NET, C#, Delphi, HTML, Java, Javascript, PHP,...   \n",
              "14                 java  .NET, C#, Delphi, HTML, Java, Javascript, PHP,...   \n",
              "\n",
              "    salary_monthly_BRUTO              salary_in_usd  \\\n",
              "14            102,000.00  Mi sueldo está dolarizado   \n",
              "14            102,000.00  Mi sueldo está dolarizado   \n",
              "14            102,000.00  Mi sueldo está dolarizado   \n",
              "14            102,000.00  Mi sueldo está dolarizado   \n",
              "14            102,000.00  Mi sueldo está dolarizado   \n",
              "\n",
              "                          cured_programming_languages  \n",
              "14  [.net, c#, delphi, html, java, javascript, php...  \n",
              "14  [.net, c#, delphi, html, java, javascript, php...  \n",
              "14  [.net, c#, delphi, html, java, javascript, php...  \n",
              "14  [.net, c#, delphi, html, java, javascript, php...  \n",
              "14  [.net, c#, delphi, html, java, javascript, php...  "
            ],
            "text/html": [
              "\n",
              "  <div id=\"df-cd4fb504-3af4-46c1-8b88-7ac6e7294814\">\n",
              "    <div class=\"colab-df-container\">\n",
              "      <div>\n",
              "<style scoped>\n",
              "    .dataframe tbody tr th:only-of-type {\n",
              "        vertical-align: middle;\n",
              "    }\n",
              "\n",
              "    .dataframe tbody tr th {\n",
              "        vertical-align: top;\n",
              "    }\n",
              "\n",
              "    .dataframe thead th {\n",
              "        text-align: right;\n",
              "    }\n",
              "</style>\n",
              "<table border=\"1\" class=\"dataframe\">\n",
              "  <thead>\n",
              "    <tr style=\"text-align: right;\">\n",
              "      <th></th>\n",
              "      <th>programming_language</th>\n",
              "      <th>tools_programming_languages</th>\n",
              "      <th>salary_monthly_BRUTO</th>\n",
              "      <th>salary_in_usd</th>\n",
              "      <th>cured_programming_languages</th>\n",
              "    </tr>\n",
              "  </thead>\n",
              "  <tbody>\n",
              "    <tr>\n",
              "      <th>14</th>\n",
              "      <td>.net</td>\n",
              "      <td>.NET, C#, Delphi, HTML, Java, Javascript, PHP,...</td>\n",
              "      <td>102,000.00</td>\n",
              "      <td>Mi sueldo está dolarizado</td>\n",
              "      <td>[.net, c#, delphi, html, java, javascript, php...</td>\n",
              "    </tr>\n",
              "    <tr>\n",
              "      <th>14</th>\n",
              "      <td>c#</td>\n",
              "      <td>.NET, C#, Delphi, HTML, Java, Javascript, PHP,...</td>\n",
              "      <td>102,000.00</td>\n",
              "      <td>Mi sueldo está dolarizado</td>\n",
              "      <td>[.net, c#, delphi, html, java, javascript, php...</td>\n",
              "    </tr>\n",
              "    <tr>\n",
              "      <th>14</th>\n",
              "      <td>delphi</td>\n",
              "      <td>.NET, C#, Delphi, HTML, Java, Javascript, PHP,...</td>\n",
              "      <td>102,000.00</td>\n",
              "      <td>Mi sueldo está dolarizado</td>\n",
              "      <td>[.net, c#, delphi, html, java, javascript, php...</td>\n",
              "    </tr>\n",
              "    <tr>\n",
              "      <th>14</th>\n",
              "      <td>html</td>\n",
              "      <td>.NET, C#, Delphi, HTML, Java, Javascript, PHP,...</td>\n",
              "      <td>102,000.00</td>\n",
              "      <td>Mi sueldo está dolarizado</td>\n",
              "      <td>[.net, c#, delphi, html, java, javascript, php...</td>\n",
              "    </tr>\n",
              "    <tr>\n",
              "      <th>14</th>\n",
              "      <td>java</td>\n",
              "      <td>.NET, C#, Delphi, HTML, Java, Javascript, PHP,...</td>\n",
              "      <td>102,000.00</td>\n",
              "      <td>Mi sueldo está dolarizado</td>\n",
              "      <td>[.net, c#, delphi, html, java, javascript, php...</td>\n",
              "    </tr>\n",
              "  </tbody>\n",
              "</table>\n",
              "</div>\n",
              "      <button class=\"colab-df-convert\" onclick=\"convertToInteractive('df-cd4fb504-3af4-46c1-8b88-7ac6e7294814')\"\n",
              "              title=\"Convert this dataframe to an interactive table.\"\n",
              "              style=\"display:none;\">\n",
              "        \n",
              "  <svg xmlns=\"http://www.w3.org/2000/svg\" height=\"24px\"viewBox=\"0 0 24 24\"\n",
              "       width=\"24px\">\n",
              "    <path d=\"M0 0h24v24H0V0z\" fill=\"none\"/>\n",
              "    <path d=\"M18.56 5.44l.94 2.06.94-2.06 2.06-.94-2.06-.94-.94-2.06-.94 2.06-2.06.94zm-11 1L8.5 8.5l.94-2.06 2.06-.94-2.06-.94L8.5 2.5l-.94 2.06-2.06.94zm10 10l.94 2.06.94-2.06 2.06-.94-2.06-.94-.94-2.06-.94 2.06-2.06.94z\"/><path d=\"M17.41 7.96l-1.37-1.37c-.4-.4-.92-.59-1.43-.59-.52 0-1.04.2-1.43.59L10.3 9.45l-7.72 7.72c-.78.78-.78 2.05 0 2.83L4 21.41c.39.39.9.59 1.41.59.51 0 1.02-.2 1.41-.59l7.78-7.78 2.81-2.81c.8-.78.8-2.07 0-2.86zM5.41 20L4 18.59l7.72-7.72 1.47 1.35L5.41 20z\"/>\n",
              "  </svg>\n",
              "      </button>\n",
              "      \n",
              "  <style>\n",
              "    .colab-df-container {\n",
              "      display:flex;\n",
              "      flex-wrap:wrap;\n",
              "      gap: 12px;\n",
              "    }\n",
              "\n",
              "    .colab-df-convert {\n",
              "      background-color: #E8F0FE;\n",
              "      border: none;\n",
              "      border-radius: 50%;\n",
              "      cursor: pointer;\n",
              "      display: none;\n",
              "      fill: #1967D2;\n",
              "      height: 32px;\n",
              "      padding: 0 0 0 0;\n",
              "      width: 32px;\n",
              "    }\n",
              "\n",
              "    .colab-df-convert:hover {\n",
              "      background-color: #E2EBFA;\n",
              "      box-shadow: 0px 1px 2px rgba(60, 64, 67, 0.3), 0px 1px 3px 1px rgba(60, 64, 67, 0.15);\n",
              "      fill: #174EA6;\n",
              "    }\n",
              "\n",
              "    [theme=dark] .colab-df-convert {\n",
              "      background-color: #3B4455;\n",
              "      fill: #D2E3FC;\n",
              "    }\n",
              "\n",
              "    [theme=dark] .colab-df-convert:hover {\n",
              "      background-color: #434B5C;\n",
              "      box-shadow: 0px 1px 3px 1px rgba(0, 0, 0, 0.15);\n",
              "      filter: drop-shadow(0px 1px 2px rgba(0, 0, 0, 0.3));\n",
              "      fill: #FFFFFF;\n",
              "    }\n",
              "  </style>\n",
              "\n",
              "      <script>\n",
              "        const buttonEl =\n",
              "          document.querySelector('#df-cd4fb504-3af4-46c1-8b88-7ac6e7294814 button.colab-df-convert');\n",
              "        buttonEl.style.display =\n",
              "          google.colab.kernel.accessAllowed ? 'block' : 'none';\n",
              "\n",
              "        async function convertToInteractive(key) {\n",
              "          const element = document.querySelector('#df-cd4fb504-3af4-46c1-8b88-7ac6e7294814');\n",
              "          const dataTable =\n",
              "            await google.colab.kernel.invokeFunction('convertToInteractive',\n",
              "                                                     [key], {});\n",
              "          if (!dataTable) return;\n",
              "\n",
              "          const docLinkHtml = 'Like what you see? Visit the ' +\n",
              "            '<a target=\"_blank\" href=https://colab.research.google.com/notebooks/data_table.ipynb>data table notebook</a>'\n",
              "            + ' to learn more about interactive tables.';\n",
              "          element.innerHTML = '';\n",
              "          dataTable['output_type'] = 'display_data';\n",
              "          await google.colab.output.renderOutput(dataTable, element);\n",
              "          const docLink = document.createElement('div');\n",
              "          docLink.innerHTML = docLinkHtml;\n",
              "          element.appendChild(docLink);\n",
              "        }\n",
              "      </script>\n",
              "    </div>\n",
              "  </div>\n",
              "  "
            ]
          },
          "metadata": {},
          "execution_count": 21
        }
      ],
      "source": [
        "# Convert the comma-separated string of languages to a list of string.\n",
        "# Remove 'ninguno de los anteriores' option, spaces and training commas.\n",
        "def split_languages(languages_str):\n",
        "  if not isinstance(languages_str, str):\n",
        "    return []\n",
        "  # Remove 'other' option\n",
        "  languages_str = languages_str.lower()\\\n",
        "    .replace('ninguno de los anteriores', '')\n",
        "  # Split string into list of items\n",
        "  # Remove spaces and commas for each item\n",
        "  return [lang.strip().replace(',', '')\n",
        "          for lang in languages_str.split()]\n",
        "\n",
        "# Create a new column with the list of languages\n",
        "dfusd.loc[:, 'cured_programming_languages'] = dfusd.tools_programming_languages\\\n",
        "    .apply(split_languages)\n",
        "if 'cured_programming_languages' not in relevant_columns:\n",
        "    relevant_columns.append('cured_programming_languages') \n",
        "\n",
        "# Duplicate each row of df for each programming language\n",
        "# mentioned in the response.\n",
        "# We only include in df_lang the columns we are going to analyze later, so we\n",
        "# don't duplicate innecesary information.\n",
        "dfusd_lang = dfusd.cured_programming_languages\\\n",
        "    .apply(pd.Series).stack()\\\n",
        "    .reset_index(level=-1, drop=True).to_frame()\\\n",
        "    .join(dfusd[relevant_columns])\\\n",
        "    .rename(columns={0: 'programming_language'})\n",
        "# Horrible programming style! But a lot of data science code can be written with\n",
        "# as concatenations of functions (pipelines), and there's no elegant way of\n",
        "# doing that on Python.\n",
        "dfusd_lang[:5]"
      ]
    },
    {
      "cell_type": "markdown",
      "metadata": {
        "id": "qm8NUg-7UEue"
      },
      "source": [
        "En la columna `programming_language` se encuentra cada lenguaje por separado. Notar que si una respuesta contenía 3 lenguajes, como `\"HTML, Javascript, Python\"`, la fila ha sido replicada 3 veces. Por ello, hay tres filas con índice 1."
      ]
    },
    {
      "cell_type": "markdown",
      "metadata": {
        "id": "9ZZsz5HJeGVO"
      },
      "source": [
        "**Selección de los 5 lenguajes de programación con mayor frecuencia**"
      ]
    },
    {
      "cell_type": "code",
      "execution_count": 22,
      "metadata": {
        "colab": {
          "base_uri": "https://localhost:8080/",
          "height": 206
        },
        "id": "lNPb4tTvWCwv",
        "outputId": "c1130b17-7ec9-4784-f3ee-813b691aa1f6"
      },
      "outputs": [
        {
          "output_type": "execute_result",
          "data": {
            "text/plain": [
              "     language  frequency\n",
              "0  javascript        347\n",
              "1        html        218\n",
              "2      python        209\n",
              "3         sql        186\n",
              "4         css        161"
            ],
            "text/html": [
              "\n",
              "  <div id=\"df-9439cf26-0ad2-4ff1-a0a8-36a2f9ba787e\">\n",
              "    <div class=\"colab-df-container\">\n",
              "      <div>\n",
              "<style scoped>\n",
              "    .dataframe tbody tr th:only-of-type {\n",
              "        vertical-align: middle;\n",
              "    }\n",
              "\n",
              "    .dataframe tbody tr th {\n",
              "        vertical-align: top;\n",
              "    }\n",
              "\n",
              "    .dataframe thead th {\n",
              "        text-align: right;\n",
              "    }\n",
              "</style>\n",
              "<table border=\"1\" class=\"dataframe\">\n",
              "  <thead>\n",
              "    <tr style=\"text-align: right;\">\n",
              "      <th></th>\n",
              "      <th>language</th>\n",
              "      <th>frequency</th>\n",
              "    </tr>\n",
              "  </thead>\n",
              "  <tbody>\n",
              "    <tr>\n",
              "      <th>0</th>\n",
              "      <td>javascript</td>\n",
              "      <td>347</td>\n",
              "    </tr>\n",
              "    <tr>\n",
              "      <th>1</th>\n",
              "      <td>html</td>\n",
              "      <td>218</td>\n",
              "    </tr>\n",
              "    <tr>\n",
              "      <th>2</th>\n",
              "      <td>python</td>\n",
              "      <td>209</td>\n",
              "    </tr>\n",
              "    <tr>\n",
              "      <th>3</th>\n",
              "      <td>sql</td>\n",
              "      <td>186</td>\n",
              "    </tr>\n",
              "    <tr>\n",
              "      <th>4</th>\n",
              "      <td>css</td>\n",
              "      <td>161</td>\n",
              "    </tr>\n",
              "  </tbody>\n",
              "</table>\n",
              "</div>\n",
              "      <button class=\"colab-df-convert\" onclick=\"convertToInteractive('df-9439cf26-0ad2-4ff1-a0a8-36a2f9ba787e')\"\n",
              "              title=\"Convert this dataframe to an interactive table.\"\n",
              "              style=\"display:none;\">\n",
              "        \n",
              "  <svg xmlns=\"http://www.w3.org/2000/svg\" height=\"24px\"viewBox=\"0 0 24 24\"\n",
              "       width=\"24px\">\n",
              "    <path d=\"M0 0h24v24H0V0z\" fill=\"none\"/>\n",
              "    <path d=\"M18.56 5.44l.94 2.06.94-2.06 2.06-.94-2.06-.94-.94-2.06-.94 2.06-2.06.94zm-11 1L8.5 8.5l.94-2.06 2.06-.94-2.06-.94L8.5 2.5l-.94 2.06-2.06.94zm10 10l.94 2.06.94-2.06 2.06-.94-2.06-.94-.94-2.06-.94 2.06-2.06.94z\"/><path d=\"M17.41 7.96l-1.37-1.37c-.4-.4-.92-.59-1.43-.59-.52 0-1.04.2-1.43.59L10.3 9.45l-7.72 7.72c-.78.78-.78 2.05 0 2.83L4 21.41c.39.39.9.59 1.41.59.51 0 1.02-.2 1.41-.59l7.78-7.78 2.81-2.81c.8-.78.8-2.07 0-2.86zM5.41 20L4 18.59l7.72-7.72 1.47 1.35L5.41 20z\"/>\n",
              "  </svg>\n",
              "      </button>\n",
              "      \n",
              "  <style>\n",
              "    .colab-df-container {\n",
              "      display:flex;\n",
              "      flex-wrap:wrap;\n",
              "      gap: 12px;\n",
              "    }\n",
              "\n",
              "    .colab-df-convert {\n",
              "      background-color: #E8F0FE;\n",
              "      border: none;\n",
              "      border-radius: 50%;\n",
              "      cursor: pointer;\n",
              "      display: none;\n",
              "      fill: #1967D2;\n",
              "      height: 32px;\n",
              "      padding: 0 0 0 0;\n",
              "      width: 32px;\n",
              "    }\n",
              "\n",
              "    .colab-df-convert:hover {\n",
              "      background-color: #E2EBFA;\n",
              "      box-shadow: 0px 1px 2px rgba(60, 64, 67, 0.3), 0px 1px 3px 1px rgba(60, 64, 67, 0.15);\n",
              "      fill: #174EA6;\n",
              "    }\n",
              "\n",
              "    [theme=dark] .colab-df-convert {\n",
              "      background-color: #3B4455;\n",
              "      fill: #D2E3FC;\n",
              "    }\n",
              "\n",
              "    [theme=dark] .colab-df-convert:hover {\n",
              "      background-color: #434B5C;\n",
              "      box-shadow: 0px 1px 3px 1px rgba(0, 0, 0, 0.15);\n",
              "      filter: drop-shadow(0px 1px 2px rgba(0, 0, 0, 0.3));\n",
              "      fill: #FFFFFF;\n",
              "    }\n",
              "  </style>\n",
              "\n",
              "      <script>\n",
              "        const buttonEl =\n",
              "          document.querySelector('#df-9439cf26-0ad2-4ff1-a0a8-36a2f9ba787e button.colab-df-convert');\n",
              "        buttonEl.style.display =\n",
              "          google.colab.kernel.accessAllowed ? 'block' : 'none';\n",
              "\n",
              "        async function convertToInteractive(key) {\n",
              "          const element = document.querySelector('#df-9439cf26-0ad2-4ff1-a0a8-36a2f9ba787e');\n",
              "          const dataTable =\n",
              "            await google.colab.kernel.invokeFunction('convertToInteractive',\n",
              "                                                     [key], {});\n",
              "          if (!dataTable) return;\n",
              "\n",
              "          const docLinkHtml = 'Like what you see? Visit the ' +\n",
              "            '<a target=\"_blank\" href=https://colab.research.google.com/notebooks/data_table.ipynb>data table notebook</a>'\n",
              "            + ' to learn more about interactive tables.';\n",
              "          element.innerHTML = '';\n",
              "          dataTable['output_type'] = 'display_data';\n",
              "          await google.colab.output.renderOutput(dataTable, element);\n",
              "          const docLink = document.createElement('div');\n",
              "          docLink.innerHTML = docLinkHtml;\n",
              "          element.appendChild(docLink);\n",
              "        }\n",
              "      </script>\n",
              "    </div>\n",
              "  </div>\n",
              "  "
            ]
          },
          "metadata": {},
          "execution_count": 22
        }
      ],
      "source": [
        "language_count = dfusd_lang.programming_language.value_counts()\\\n",
        "    .reset_index()\\\n",
        "    .rename(columns={'index': 'language', 'programming_language': 'frequency'})\n",
        "language_count[:5]"
      ]
    },
    {
      "cell_type": "markdown",
      "metadata": {
        "id": "nThbJ1KeUgDo"
      },
      "source": [
        "## Filtrado de lenguajes relevantes\n",
        "\n",
        "El siguiente código permite seleccionar sólo las filas donde el valor de la columna `programming_language` se encuentre en la lista `interesting_languages`."
      ]
    },
    {
      "cell_type": "code",
      "execution_count": 23,
      "metadata": {
        "colab": {
          "base_uri": "https://localhost:8080/",
          "height": 362
        },
        "id": "DEpVptnLZUQU",
        "outputId": "0bd69617-b77f-492a-a6b6-ba7ecc489482"
      },
      "outputs": [
        {
          "output_type": "execute_result",
          "data": {
            "text/plain": [
              "   programming_language                        tools_programming_languages  \\\n",
              "14                 html  .NET, C#, Delphi, HTML, Java, Javascript, PHP,...   \n",
              "14           javascript  .NET, C#, Delphi, HTML, Java, Javascript, PHP,...   \n",
              "14                  sql  .NET, C#, Delphi, HTML, Java, Javascript, PHP,...   \n",
              "41               python                             Bash/Shell, Go, Python   \n",
              "60               python                               C, C++, Java, Python   \n",
              "63           javascript           Go, Javascript, Python, Ruby, TypeScript   \n",
              "63               python           Go, Javascript, Python, Ruby, TypeScript   \n",
              "66                  css  CSS, Elixir, HTML, Javascript, Ruby, SQL, Type...   \n",
              "66                 html  CSS, Elixir, HTML, Javascript, Ruby, SQL, Type...   \n",
              "66           javascript  CSS, Elixir, HTML, Javascript, Ruby, SQL, Type...   \n",
              "\n",
              "    salary_monthly_BRUTO              salary_in_usd  \\\n",
              "14            102,000.00  Mi sueldo está dolarizado   \n",
              "14            102,000.00  Mi sueldo está dolarizado   \n",
              "14            102,000.00  Mi sueldo está dolarizado   \n",
              "41            450,000.00  Mi sueldo está dolarizado   \n",
              "60            480,000.00  Mi sueldo está dolarizado   \n",
              "63            170,200.00  Mi sueldo está dolarizado   \n",
              "63            170,200.00  Mi sueldo está dolarizado   \n",
              "66            283,000.00  Mi sueldo está dolarizado   \n",
              "66            283,000.00  Mi sueldo está dolarizado   \n",
              "66            283,000.00  Mi sueldo está dolarizado   \n",
              "\n",
              "                          cured_programming_languages  \n",
              "14  [.net, c#, delphi, html, java, javascript, php...  \n",
              "14  [.net, c#, delphi, html, java, javascript, php...  \n",
              "14  [.net, c#, delphi, html, java, javascript, php...  \n",
              "41                           [bash/shell, go, python]  \n",
              "60                             [c, c++, java, python]  \n",
              "63         [go, javascript, python, ruby, typescript]  \n",
              "63         [go, javascript, python, ruby, typescript]  \n",
              "66  [css, elixir, html, javascript, ruby, sql, typ...  \n",
              "66  [css, elixir, html, javascript, ruby, sql, typ...  \n",
              "66  [css, elixir, html, javascript, ruby, sql, typ...  "
            ],
            "text/html": [
              "\n",
              "  <div id=\"df-9505be4e-992e-4635-9de1-a786b9116dde\">\n",
              "    <div class=\"colab-df-container\">\n",
              "      <div>\n",
              "<style scoped>\n",
              "    .dataframe tbody tr th:only-of-type {\n",
              "        vertical-align: middle;\n",
              "    }\n",
              "\n",
              "    .dataframe tbody tr th {\n",
              "        vertical-align: top;\n",
              "    }\n",
              "\n",
              "    .dataframe thead th {\n",
              "        text-align: right;\n",
              "    }\n",
              "</style>\n",
              "<table border=\"1\" class=\"dataframe\">\n",
              "  <thead>\n",
              "    <tr style=\"text-align: right;\">\n",
              "      <th></th>\n",
              "      <th>programming_language</th>\n",
              "      <th>tools_programming_languages</th>\n",
              "      <th>salary_monthly_BRUTO</th>\n",
              "      <th>salary_in_usd</th>\n",
              "      <th>cured_programming_languages</th>\n",
              "    </tr>\n",
              "  </thead>\n",
              "  <tbody>\n",
              "    <tr>\n",
              "      <th>14</th>\n",
              "      <td>html</td>\n",
              "      <td>.NET, C#, Delphi, HTML, Java, Javascript, PHP,...</td>\n",
              "      <td>102,000.00</td>\n",
              "      <td>Mi sueldo está dolarizado</td>\n",
              "      <td>[.net, c#, delphi, html, java, javascript, php...</td>\n",
              "    </tr>\n",
              "    <tr>\n",
              "      <th>14</th>\n",
              "      <td>javascript</td>\n",
              "      <td>.NET, C#, Delphi, HTML, Java, Javascript, PHP,...</td>\n",
              "      <td>102,000.00</td>\n",
              "      <td>Mi sueldo está dolarizado</td>\n",
              "      <td>[.net, c#, delphi, html, java, javascript, php...</td>\n",
              "    </tr>\n",
              "    <tr>\n",
              "      <th>14</th>\n",
              "      <td>sql</td>\n",
              "      <td>.NET, C#, Delphi, HTML, Java, Javascript, PHP,...</td>\n",
              "      <td>102,000.00</td>\n",
              "      <td>Mi sueldo está dolarizado</td>\n",
              "      <td>[.net, c#, delphi, html, java, javascript, php...</td>\n",
              "    </tr>\n",
              "    <tr>\n",
              "      <th>41</th>\n",
              "      <td>python</td>\n",
              "      <td>Bash/Shell, Go, Python</td>\n",
              "      <td>450,000.00</td>\n",
              "      <td>Mi sueldo está dolarizado</td>\n",
              "      <td>[bash/shell, go, python]</td>\n",
              "    </tr>\n",
              "    <tr>\n",
              "      <th>60</th>\n",
              "      <td>python</td>\n",
              "      <td>C, C++, Java, Python</td>\n",
              "      <td>480,000.00</td>\n",
              "      <td>Mi sueldo está dolarizado</td>\n",
              "      <td>[c, c++, java, python]</td>\n",
              "    </tr>\n",
              "    <tr>\n",
              "      <th>63</th>\n",
              "      <td>javascript</td>\n",
              "      <td>Go, Javascript, Python, Ruby, TypeScript</td>\n",
              "      <td>170,200.00</td>\n",
              "      <td>Mi sueldo está dolarizado</td>\n",
              "      <td>[go, javascript, python, ruby, typescript]</td>\n",
              "    </tr>\n",
              "    <tr>\n",
              "      <th>63</th>\n",
              "      <td>python</td>\n",
              "      <td>Go, Javascript, Python, Ruby, TypeScript</td>\n",
              "      <td>170,200.00</td>\n",
              "      <td>Mi sueldo está dolarizado</td>\n",
              "      <td>[go, javascript, python, ruby, typescript]</td>\n",
              "    </tr>\n",
              "    <tr>\n",
              "      <th>66</th>\n",
              "      <td>css</td>\n",
              "      <td>CSS, Elixir, HTML, Javascript, Ruby, SQL, Type...</td>\n",
              "      <td>283,000.00</td>\n",
              "      <td>Mi sueldo está dolarizado</td>\n",
              "      <td>[css, elixir, html, javascript, ruby, sql, typ...</td>\n",
              "    </tr>\n",
              "    <tr>\n",
              "      <th>66</th>\n",
              "      <td>html</td>\n",
              "      <td>CSS, Elixir, HTML, Javascript, Ruby, SQL, Type...</td>\n",
              "      <td>283,000.00</td>\n",
              "      <td>Mi sueldo está dolarizado</td>\n",
              "      <td>[css, elixir, html, javascript, ruby, sql, typ...</td>\n",
              "    </tr>\n",
              "    <tr>\n",
              "      <th>66</th>\n",
              "      <td>javascript</td>\n",
              "      <td>CSS, Elixir, HTML, Javascript, Ruby, SQL, Type...</td>\n",
              "      <td>283,000.00</td>\n",
              "      <td>Mi sueldo está dolarizado</td>\n",
              "      <td>[css, elixir, html, javascript, ruby, sql, typ...</td>\n",
              "    </tr>\n",
              "  </tbody>\n",
              "</table>\n",
              "</div>\n",
              "      <button class=\"colab-df-convert\" onclick=\"convertToInteractive('df-9505be4e-992e-4635-9de1-a786b9116dde')\"\n",
              "              title=\"Convert this dataframe to an interactive table.\"\n",
              "              style=\"display:none;\">\n",
              "        \n",
              "  <svg xmlns=\"http://www.w3.org/2000/svg\" height=\"24px\"viewBox=\"0 0 24 24\"\n",
              "       width=\"24px\">\n",
              "    <path d=\"M0 0h24v24H0V0z\" fill=\"none\"/>\n",
              "    <path d=\"M18.56 5.44l.94 2.06.94-2.06 2.06-.94-2.06-.94-.94-2.06-.94 2.06-2.06.94zm-11 1L8.5 8.5l.94-2.06 2.06-.94-2.06-.94L8.5 2.5l-.94 2.06-2.06.94zm10 10l.94 2.06.94-2.06 2.06-.94-2.06-.94-.94-2.06-.94 2.06-2.06.94z\"/><path d=\"M17.41 7.96l-1.37-1.37c-.4-.4-.92-.59-1.43-.59-.52 0-1.04.2-1.43.59L10.3 9.45l-7.72 7.72c-.78.78-.78 2.05 0 2.83L4 21.41c.39.39.9.59 1.41.59.51 0 1.02-.2 1.41-.59l7.78-7.78 2.81-2.81c.8-.78.8-2.07 0-2.86zM5.41 20L4 18.59l7.72-7.72 1.47 1.35L5.41 20z\"/>\n",
              "  </svg>\n",
              "      </button>\n",
              "      \n",
              "  <style>\n",
              "    .colab-df-container {\n",
              "      display:flex;\n",
              "      flex-wrap:wrap;\n",
              "      gap: 12px;\n",
              "    }\n",
              "\n",
              "    .colab-df-convert {\n",
              "      background-color: #E8F0FE;\n",
              "      border: none;\n",
              "      border-radius: 50%;\n",
              "      cursor: pointer;\n",
              "      display: none;\n",
              "      fill: #1967D2;\n",
              "      height: 32px;\n",
              "      padding: 0 0 0 0;\n",
              "      width: 32px;\n",
              "    }\n",
              "\n",
              "    .colab-df-convert:hover {\n",
              "      background-color: #E2EBFA;\n",
              "      box-shadow: 0px 1px 2px rgba(60, 64, 67, 0.3), 0px 1px 3px 1px rgba(60, 64, 67, 0.15);\n",
              "      fill: #174EA6;\n",
              "    }\n",
              "\n",
              "    [theme=dark] .colab-df-convert {\n",
              "      background-color: #3B4455;\n",
              "      fill: #D2E3FC;\n",
              "    }\n",
              "\n",
              "    [theme=dark] .colab-df-convert:hover {\n",
              "      background-color: #434B5C;\n",
              "      box-shadow: 0px 1px 3px 1px rgba(0, 0, 0, 0.15);\n",
              "      filter: drop-shadow(0px 1px 2px rgba(0, 0, 0, 0.3));\n",
              "      fill: #FFFFFF;\n",
              "    }\n",
              "  </style>\n",
              "\n",
              "      <script>\n",
              "        const buttonEl =\n",
              "          document.querySelector('#df-9505be4e-992e-4635-9de1-a786b9116dde button.colab-df-convert');\n",
              "        buttonEl.style.display =\n",
              "          google.colab.kernel.accessAllowed ? 'block' : 'none';\n",
              "\n",
              "        async function convertToInteractive(key) {\n",
              "          const element = document.querySelector('#df-9505be4e-992e-4635-9de1-a786b9116dde');\n",
              "          const dataTable =\n",
              "            await google.colab.kernel.invokeFunction('convertToInteractive',\n",
              "                                                     [key], {});\n",
              "          if (!dataTable) return;\n",
              "\n",
              "          const docLinkHtml = 'Like what you see? Visit the ' +\n",
              "            '<a target=\"_blank\" href=https://colab.research.google.com/notebooks/data_table.ipynb>data table notebook</a>'\n",
              "            + ' to learn more about interactive tables.';\n",
              "          element.innerHTML = '';\n",
              "          dataTable['output_type'] = 'display_data';\n",
              "          await google.colab.output.renderOutput(dataTable, element);\n",
              "          const docLink = document.createElement('div');\n",
              "          docLink.innerHTML = docLinkHtml;\n",
              "          element.appendChild(docLink);\n",
              "        }\n",
              "      </script>\n",
              "    </div>\n",
              "  </div>\n",
              "  "
            ]
          },
          "metadata": {},
          "execution_count": 23
        }
      ],
      "source": [
        "# Filter out languages that we want to exclude\n",
        "# Complete here with your selected list.\n",
        "interesting_languages = ['javascript', 'html','python', 'sql','css' ]\n",
        "\n",
        "filtered_df_lang = dfusd_lang[dfusd_lang.programming_language.isin(interesting_languages)]\n",
        "filtered_df_lang[:10]"
      ]
    },
    {
      "cell_type": "markdown",
      "metadata": {
        "id": "_3r-GruPezfW"
      },
      "source": [
        "### 1.3 Medidas de estadística descriptiva sobre la distribución de salario para cada lenguaje seleccionado"
      ]
    },
    {
      "cell_type": "code",
      "execution_count": 24,
      "metadata": {
        "colab": {
          "base_uri": "https://localhost:8080/",
          "height": 268
        },
        "id": "1P6PC8dfRd0U",
        "outputId": "6c804d8e-d6e8-4a02-e16e-8b6ccc7115d8"
      },
      "outputs": [
        {
          "output_type": "execute_result",
          "data": {
            "text/plain": [
              "                     salary_monthly_BRUTO                                 \\\n",
              "                                    count       mean        std      min   \n",
              "programming_language                                                       \n",
              "css                                161.00 264,964.10 263,807.45   100.00   \n",
              "html                               218.00 252,931.79 242,594.85   100.00   \n",
              "javascript                         347.00 265,911.72 234,575.45   100.00   \n",
              "python                             209.00 291,056.21 236,932.36     2.00   \n",
              "sql                                186.00 255,154.33 220,668.97 1,100.00   \n",
              "\n",
              "                                                                    \n",
              "                            25%        50%        75%          max  \n",
              "programming_language                                                \n",
              "css                  104,812.00 182,219.00 350,000.00 2,080,000.00  \n",
              "html                 100,000.00 179,110.12 350,000.00 2,080,000.00  \n",
              "javascript           115,420.00 200,000.00 360,000.00 2,080,000.00  \n",
              "python               140,000.00 220,000.00 360,000.00 1,680,000.00  \n",
              "sql                  120,000.00 195,000.00 350,000.00 2,080,000.00  "
            ],
            "text/html": [
              "\n",
              "  <div id=\"df-fc061bfd-c015-46c7-8292-855b4ced37e7\">\n",
              "    <div class=\"colab-df-container\">\n",
              "      <div>\n",
              "<style scoped>\n",
              "    .dataframe tbody tr th:only-of-type {\n",
              "        vertical-align: middle;\n",
              "    }\n",
              "\n",
              "    .dataframe tbody tr th {\n",
              "        vertical-align: top;\n",
              "    }\n",
              "\n",
              "    .dataframe thead tr th {\n",
              "        text-align: left;\n",
              "    }\n",
              "\n",
              "    .dataframe thead tr:last-of-type th {\n",
              "        text-align: right;\n",
              "    }\n",
              "</style>\n",
              "<table border=\"1\" class=\"dataframe\">\n",
              "  <thead>\n",
              "    <tr>\n",
              "      <th></th>\n",
              "      <th colspan=\"8\" halign=\"left\">salary_monthly_BRUTO</th>\n",
              "    </tr>\n",
              "    <tr>\n",
              "      <th></th>\n",
              "      <th>count</th>\n",
              "      <th>mean</th>\n",
              "      <th>std</th>\n",
              "      <th>min</th>\n",
              "      <th>25%</th>\n",
              "      <th>50%</th>\n",
              "      <th>75%</th>\n",
              "      <th>max</th>\n",
              "    </tr>\n",
              "    <tr>\n",
              "      <th>programming_language</th>\n",
              "      <th></th>\n",
              "      <th></th>\n",
              "      <th></th>\n",
              "      <th></th>\n",
              "      <th></th>\n",
              "      <th></th>\n",
              "      <th></th>\n",
              "      <th></th>\n",
              "    </tr>\n",
              "  </thead>\n",
              "  <tbody>\n",
              "    <tr>\n",
              "      <th>css</th>\n",
              "      <td>161.00</td>\n",
              "      <td>264,964.10</td>\n",
              "      <td>263,807.45</td>\n",
              "      <td>100.00</td>\n",
              "      <td>104,812.00</td>\n",
              "      <td>182,219.00</td>\n",
              "      <td>350,000.00</td>\n",
              "      <td>2,080,000.00</td>\n",
              "    </tr>\n",
              "    <tr>\n",
              "      <th>html</th>\n",
              "      <td>218.00</td>\n",
              "      <td>252,931.79</td>\n",
              "      <td>242,594.85</td>\n",
              "      <td>100.00</td>\n",
              "      <td>100,000.00</td>\n",
              "      <td>179,110.12</td>\n",
              "      <td>350,000.00</td>\n",
              "      <td>2,080,000.00</td>\n",
              "    </tr>\n",
              "    <tr>\n",
              "      <th>javascript</th>\n",
              "      <td>347.00</td>\n",
              "      <td>265,911.72</td>\n",
              "      <td>234,575.45</td>\n",
              "      <td>100.00</td>\n",
              "      <td>115,420.00</td>\n",
              "      <td>200,000.00</td>\n",
              "      <td>360,000.00</td>\n",
              "      <td>2,080,000.00</td>\n",
              "    </tr>\n",
              "    <tr>\n",
              "      <th>python</th>\n",
              "      <td>209.00</td>\n",
              "      <td>291,056.21</td>\n",
              "      <td>236,932.36</td>\n",
              "      <td>2.00</td>\n",
              "      <td>140,000.00</td>\n",
              "      <td>220,000.00</td>\n",
              "      <td>360,000.00</td>\n",
              "      <td>1,680,000.00</td>\n",
              "    </tr>\n",
              "    <tr>\n",
              "      <th>sql</th>\n",
              "      <td>186.00</td>\n",
              "      <td>255,154.33</td>\n",
              "      <td>220,668.97</td>\n",
              "      <td>1,100.00</td>\n",
              "      <td>120,000.00</td>\n",
              "      <td>195,000.00</td>\n",
              "      <td>350,000.00</td>\n",
              "      <td>2,080,000.00</td>\n",
              "    </tr>\n",
              "  </tbody>\n",
              "</table>\n",
              "</div>\n",
              "      <button class=\"colab-df-convert\" onclick=\"convertToInteractive('df-fc061bfd-c015-46c7-8292-855b4ced37e7')\"\n",
              "              title=\"Convert this dataframe to an interactive table.\"\n",
              "              style=\"display:none;\">\n",
              "        \n",
              "  <svg xmlns=\"http://www.w3.org/2000/svg\" height=\"24px\"viewBox=\"0 0 24 24\"\n",
              "       width=\"24px\">\n",
              "    <path d=\"M0 0h24v24H0V0z\" fill=\"none\"/>\n",
              "    <path d=\"M18.56 5.44l.94 2.06.94-2.06 2.06-.94-2.06-.94-.94-2.06-.94 2.06-2.06.94zm-11 1L8.5 8.5l.94-2.06 2.06-.94-2.06-.94L8.5 2.5l-.94 2.06-2.06.94zm10 10l.94 2.06.94-2.06 2.06-.94-2.06-.94-.94-2.06-.94 2.06-2.06.94z\"/><path d=\"M17.41 7.96l-1.37-1.37c-.4-.4-.92-.59-1.43-.59-.52 0-1.04.2-1.43.59L10.3 9.45l-7.72 7.72c-.78.78-.78 2.05 0 2.83L4 21.41c.39.39.9.59 1.41.59.51 0 1.02-.2 1.41-.59l7.78-7.78 2.81-2.81c.8-.78.8-2.07 0-2.86zM5.41 20L4 18.59l7.72-7.72 1.47 1.35L5.41 20z\"/>\n",
              "  </svg>\n",
              "      </button>\n",
              "      \n",
              "  <style>\n",
              "    .colab-df-container {\n",
              "      display:flex;\n",
              "      flex-wrap:wrap;\n",
              "      gap: 12px;\n",
              "    }\n",
              "\n",
              "    .colab-df-convert {\n",
              "      background-color: #E8F0FE;\n",
              "      border: none;\n",
              "      border-radius: 50%;\n",
              "      cursor: pointer;\n",
              "      display: none;\n",
              "      fill: #1967D2;\n",
              "      height: 32px;\n",
              "      padding: 0 0 0 0;\n",
              "      width: 32px;\n",
              "    }\n",
              "\n",
              "    .colab-df-convert:hover {\n",
              "      background-color: #E2EBFA;\n",
              "      box-shadow: 0px 1px 2px rgba(60, 64, 67, 0.3), 0px 1px 3px 1px rgba(60, 64, 67, 0.15);\n",
              "      fill: #174EA6;\n",
              "    }\n",
              "\n",
              "    [theme=dark] .colab-df-convert {\n",
              "      background-color: #3B4455;\n",
              "      fill: #D2E3FC;\n",
              "    }\n",
              "\n",
              "    [theme=dark] .colab-df-convert:hover {\n",
              "      background-color: #434B5C;\n",
              "      box-shadow: 0px 1px 3px 1px rgba(0, 0, 0, 0.15);\n",
              "      filter: drop-shadow(0px 1px 2px rgba(0, 0, 0, 0.3));\n",
              "      fill: #FFFFFF;\n",
              "    }\n",
              "  </style>\n",
              "\n",
              "      <script>\n",
              "        const buttonEl =\n",
              "          document.querySelector('#df-fc061bfd-c015-46c7-8292-855b4ced37e7 button.colab-df-convert');\n",
              "        buttonEl.style.display =\n",
              "          google.colab.kernel.accessAllowed ? 'block' : 'none';\n",
              "\n",
              "        async function convertToInteractive(key) {\n",
              "          const element = document.querySelector('#df-fc061bfd-c015-46c7-8292-855b4ced37e7');\n",
              "          const dataTable =\n",
              "            await google.colab.kernel.invokeFunction('convertToInteractive',\n",
              "                                                     [key], {});\n",
              "          if (!dataTable) return;\n",
              "\n",
              "          const docLinkHtml = 'Like what you see? Visit the ' +\n",
              "            '<a target=\"_blank\" href=https://colab.research.google.com/notebooks/data_table.ipynb>data table notebook</a>'\n",
              "            + ' to learn more about interactive tables.';\n",
              "          element.innerHTML = '';\n",
              "          dataTable['output_type'] = 'display_data';\n",
              "          await google.colab.output.renderOutput(dataTable, element);\n",
              "          const docLink = document.createElement('div');\n",
              "          docLink.innerHTML = docLinkHtml;\n",
              "          element.appendChild(docLink);\n",
              "        }\n",
              "      </script>\n",
              "    </div>\n",
              "  </div>\n",
              "  "
            ]
          },
          "metadata": {},
          "execution_count": 24
        }
      ],
      "source": [
        "filtered_df_lang.groupby(filtered_df_lang['programming_language']).describe()"
      ]
    },
    {
      "cell_type": "markdown",
      "metadata": {
        "id": "clj6KAF2QehO"
      },
      "source": [
        "Comparación gráfica del Salario Bruto por cada Lenguaje de Programación elegido"
      ]
    },
    {
      "cell_type": "code",
      "execution_count": 25,
      "metadata": {
        "colab": {
          "base_uri": "https://localhost:8080/",
          "height": 605
        },
        "id": "iN10qtupQZ8x",
        "outputId": "0680754f-075e-446b-abe1-003b4b2333d5"
      },
      "outputs": [
        {
          "output_type": "display_data",
          "data": {
            "text/plain": [
              "<Figure size 1080x720 with 1 Axes>"
            ],
            "image/png": "[encoded data removed]"
          },
          "metadata": {
            "needs_background": "light"
          }
        }
      ],
      "source": [
        "fig = plt.figure(figsize=(15,10))\n",
        "\n",
        "seaborn.boxplot(data=filtered_df_lang, x='programming_language', y='salary_monthly_BRUTO'  )\n",
        "\n",
        "plt.ticklabel_format(style = 'plain',\n",
        "                    axis = 'y'\n",
        "                   )\n",
        "\n",
        "plt.xlabel('')\n",
        "plt.ylabel('')\n",
        "\n",
        "plt.show()"
      ]
    },
    {
      "cell_type": "markdown",
      "metadata": {
        "id": "tWo8SmmC9FAk"
      },
      "source": [
        "# Ejercicio 2 - Densidades y varias variables\n",
        "\n",
        "Responder a la pregunta general: **¿Que herramientas (prácticas y teóricas) són útiles para explorar la base, descubrir patrones, asociaciones?**\n",
        "\n",
        "Para ello considere (igual al ejercicio Anterior):\n",
        "1. Seleccionar las columnas relevantes para analizar.\n",
        "2. Seleccionar las filas relevantes para analizar. Esto incluye la eliminación de valores extremos y erróneos, pero también puede enfocar el análisis en sub-poblaciones. "
      ]
    },
    {
      "cell_type": "markdown",
      "metadata": {
        "id": "UfWhCL1QV_PT"
      },
      "source": [
        "#### 2.1 Selección de las columnas relevamentes para analizar.\n",
        "\n",
        "Se va a enfocar el analisis en las columnas:\n",
        "\n",
        "\n",
        "*   salary_monthly_BRUTO\n",
        "*   tools_programming_languages\n",
        "*   profile_years_experience\n",
        "\n"
      ]
    },
    {
      "cell_type": "code",
      "execution_count": 26,
      "metadata": {
        "id": "Ts-b_Bzpj_Z_"
      },
      "outputs": [],
      "source": [
        "relevant_columns = ['tools_programming_languages', 'salary_monthly_BRUTO', 'profile_years_experience']"
      ]
    },
    {
      "cell_type": "markdown",
      "metadata": {
        "id": "nMXiDpdtj0cD"
      },
      "source": [
        "#### Inspección de valores de la columna profile_years_experienced:"
      ]
    },
    {
      "cell_type": "code",
      "execution_count": 27,
      "metadata": {
        "colab": {
          "base_uri": "https://localhost:8080/"
        },
        "id": "6eIVZQlKjqKp",
        "outputId": "475947ea-2087-4134-e24a-5ec90014692a"
      },
      "outputs": [
        {
          "output_type": "execute_result",
          "data": {
            "text/plain": [
              "array([  3. ,   5. ,   2. ,  15. ,   9. ,   1. ,   0. ,  20. ,  10. ,\n",
              "         4. ,  11. ,  13. ,  12. ,  16. ,  30. ,  14. ,  29. ,   8. ,\n",
              "         6. ,  22. ,   1.5,   7. ,  25. ,  27. ,  26. ,  21. ,  17. ,\n",
              "        31. ,  18. ,  35. ,   2.5,   6.5,  23. ,  24. ,   4.5,  19. ,\n",
              "        32. ,  34. ,  39. ,   3.7,   3.5,  33. ,  36. ,  40. ,   2.8,\n",
              "         2.4,   1.8,   1.7,   8.5,   5.5, 115. ,   1.6,  28. ,  37. ,\n",
              "        43. ,   2.6,   3.1,  44. ,  38. ])"
            ]
          },
          "metadata": {},
          "execution_count": 27
        }
      ],
      "source": [
        "df.profile_years_experience.unique()"
      ]
    },
    {
      "cell_type": "code",
      "execution_count": 28,
      "metadata": {
        "colab": {
          "base_uri": "https://localhost:8080/"
        },
        "id": "1H5AWjkOnTxE",
        "outputId": "4469d8aa-589b-4382-e240-bf7c5f816cb1"
      },
      "outputs": [
        {
          "output_type": "execute_result",
          "data": {
            "text/plain": [
              "count   6,095.00\n",
              "mean        8.93\n",
              "std         7.16\n",
              "min         0.00\n",
              "25%         3.00\n",
              "50%         7.00\n",
              "75%        13.00\n",
              "max       115.00\n",
              "Name: profile_years_experience, dtype: float64"
            ]
          },
          "metadata": {},
          "execution_count": 28
        }
      ],
      "source": [
        "#Información estadística de la variable\n",
        "df.profile_years_experience.describe()"
      ]
    },
    {
      "cell_type": "code",
      "execution_count": 29,
      "metadata": {
        "colab": {
          "base_uri": "https://localhost:8080/",
          "height": 309
        },
        "id": "YvijryKkmeNo",
        "outputId": "9abea3ed-3980-4ea8-8e84-a1b660a47fa2"
      },
      "outputs": [
        {
          "output_type": "execute_result",
          "data": {
            "text/plain": [
              "(0.0, 115.0)"
            ]
          },
          "metadata": {},
          "execution_count": 29
        },
        {
          "output_type": "display_data",
          "data": {
            "text/plain": [
              "<Figure size 1800x360 with 1 Axes>"
            ],
            "image/png": "[encoded data removed]"
          },
          "metadata": {
            "needs_background": "light"
          }
        }
      ],
      "source": [
        "seaborn.displot(df['profile_years_experience'], aspect=5)\n",
        "plt.ticklabel_format(style='plain', axis='x')\n",
        "plt.xlim(0,115) # definimos los limites de x entre 0 y 115"
      ]
    },
    {
      "cell_type": "code",
      "execution_count": 30,
      "metadata": {
        "colab": {
          "base_uri": "https://localhost:8080/",
          "height": 525
        },
        "id": "NtP1w30TkdJA",
        "outputId": "daf2fbfe-cb80-47be-c42e-233475808a0a"
      },
      "outputs": [
        {
          "output_type": "execute_result",
          "data": {
            "text/plain": [
              "<seaborn.axisgrid.PairGrid at 0x7fadd44b7510>"
            ]
          },
          "metadata": {},
          "execution_count": 30
        },
        {
          "output_type": "display_data",
          "data": {
            "text/plain": [
              "<Figure size 1728x576 with 1 Axes>"
            ],
            "image/png": "[encoded data removed]"
          },
          "metadata": {
            "needs_background": "light"
          }
        }
      ],
      "source": [
        "max_age = 99\n",
        "seaborn.pairplot(data=df[df.profile_years_experience < max_age],\n",
        "                 y_vars=['profile_years_experience', ],\n",
        "                 x_vars=['salary_monthly_BRUTO'],\n",
        "                 aspect=3, height=8)"
      ]
    },
    {
      "cell_type": "code",
      "execution_count": 31,
      "metadata": {
        "colab": {
          "base_uri": "https://localhost:8080/"
        },
        "id": "4f62KSHlk9np",
        "outputId": "4654aac5-ad90-46d9-c1cd-3cd3b983bbd2"
      },
      "outputs": [
        {
          "output_type": "execute_result",
          "data": {
            "text/plain": [
              "count   5,171.00\n",
              "mean        6.66\n",
              "std         4.56\n",
              "min         0.00\n",
              "25%         3.00\n",
              "50%         6.00\n",
              "75%        10.00\n",
              "max        15.00\n",
              "Name: profile_years_experience, dtype: float64"
            ]
          },
          "metadata": {},
          "execution_count": 31
        }
      ],
      "source": [
        "# Se crea un nuevo dataset con sólo los valores de años de experiencia <= a 15\n",
        "\n",
        "dfy = df.loc[df['profile_years_experience'] <= 15]\n",
        "\n",
        "# Se muestra nuevamente la descripción de los datos:\n",
        "\n",
        "dfy.profile_years_experience.describe()"
      ]
    },
    {
      "cell_type": "markdown",
      "metadata": {
        "id": "9pR_28_Fqhk8"
      },
      "source": [
        "De esta manera, observamos que el 84% de los encuestados tienen hasta 15 años de experiencia."
      ]
    },
    {
      "cell_type": "code",
      "execution_count": 32,
      "metadata": {
        "colab": {
          "base_uri": "https://localhost:8080/",
          "height": 321
        },
        "id": "wSAJUTaJtWJR",
        "outputId": "c019654e-4e59-490c-9648-34631b76d5f4"
      },
      "outputs": [
        {
          "output_type": "display_data",
          "data": {
            "text/plain": [
              "<Figure size 576x288 with 1 Axes>"
            ],
            "image/png": "[encoded data removed]"
          },
          "metadata": {
            "needs_background": "light"
          }
        }
      ],
      "source": [
        "# Visualización de dispersión de datos para encuestados con hasta 15 años de antiguedad con salario bruto menor o igual a $1.000.000\n",
        "max_age = 15\n",
        "df_limpio=df[(df.profile_years_experience < max_age) & (df.salary_monthly_BRUTO <= 1000000)]\n",
        "seaborn.pairplot(data=df_limpio, y_vars=['profile_years_experience'],\n",
        "                 x_vars=['salary_monthly_BRUTO'],\n",
        "                 aspect=2, height=4)\n",
        "plt.xticks(rotation=20)\n",
        "\n",
        "# Remove scietific notation\n",
        "plt.ticklabel_format(useOffset=False, style='plain')\n"
      ]
    },
    {
      "cell_type": "code",
      "source": [
        "df_limpio.describe()"
      ],
      "metadata": {
        "colab": {
          "base_uri": "https://localhost:8080/",
          "height": 364
        },
        "id": "QnO-BonHgaGD",
        "outputId": "8c95925c-179f-43f6-dcf6-8dee627fd3b8"
      },
      "execution_count": 33,
      "outputs": [
        {
          "output_type": "execute_result",
          "data": {
            "text/plain": [
              "       profile_age  profile_years_experience  work_years_in_company  \\\n",
              "count     4,760.00                  4,760.00               4,760.00   \n",
              "mean         40.91                      5.94                   2.33   \n",
              "std         753.29                      4.02                   2.83   \n",
              "min          18.00                      0.00                   0.00   \n",
              "25%          26.00                      3.00                   0.00   \n",
              "50%          30.00                      5.00                   1.00   \n",
              "75%          33.00                     10.00                   3.00   \n",
              "max      52,000.00                     14.00                  23.00   \n",
              "\n",
              "       work_years_in_current_position  work_people_in_charge_of  \\\n",
              "count                        4,760.00                  4,760.00   \n",
              "mean                             2.21                      0.98   \n",
              "std                              2.40                      3.72   \n",
              "min                              0.00                      0.00   \n",
              "25%                              0.00                      0.00   \n",
              "50%                              1.50                      0.00   \n",
              "75%                              3.00                      0.00   \n",
              "max                             14.00                     60.00   \n",
              "\n",
              "       salary_on_call_duty_charge  salary_monthly_BRUTO  salary_monthly_NETO  \\\n",
              "count                    4,760.00              4,760.00             4,604.00   \n",
              "mean                       422.23            110,872.47            85,624.07   \n",
              "std                      4,950.00             97,008.23            76,687.01   \n",
              "min                          0.00                  1.00                 1.00   \n",
              "25%                          0.00             58,000.00            48,430.00   \n",
              "50%                          0.00             90,000.00            72,000.00   \n",
              "75%                          0.00            133,000.00           100,000.00   \n",
              "max                    228,000.00          1,000,000.00         1,000,000.00   \n",
              "\n",
              "       salary_satisfaction  salary_comparison_last_semester  \\\n",
              "count             4,760.00                         4,760.00   \n",
              "mean                  2.62                             2.39   \n",
              "std                   0.86                             0.95   \n",
              "min                   1.00                             1.00   \n",
              "25%                   2.00                             2.00   \n",
              "50%                   3.00                             2.00   \n",
              "75%                   3.00                             3.00   \n",
              "max                   4.00                             4.00   \n",
              "\n",
              "       salary_percentage_inflation_adjustment_2020  \\\n",
              "count                                     4,760.00   \n",
              "mean                                         10.63   \n",
              "std                                          13.06   \n",
              "min                                           0.00   \n",
              "25%                                           0.00   \n",
              "50%                                           8.00   \n",
              "75%                                          18.85   \n",
              "max                                         100.00   \n",
              "\n",
              "       salary_month_last_inflation_adjustment  company_recommended  \\\n",
              "count                                4,760.00             4,760.00   \n",
              "mean                                     2.83                 7.41   \n",
              "std                                      2.85                 1.98   \n",
              "min                                      0.00                 1.00   \n",
              "25%                                      0.00                 6.00   \n",
              "50%                                      2.00                 8.00   \n",
              "75%                                      6.00                 9.00   \n",
              "max                                      8.00                10.00   \n",
              "\n",
              "       company_diversity_policies  \n",
              "count                    4,760.00  \n",
              "mean                         7.65  \n",
              "std                          2.30  \n",
              "min                          1.00  \n",
              "25%                          6.00  \n",
              "50%                          8.00  \n",
              "75%                         10.00  \n",
              "max                         10.00  "
            ],
            "text/html": [
              "\n",
              "  <div id=\"df-63ad957f-a310-4545-b35d-1da5652c88fa\">\n",
              "    <div class=\"colab-df-container\">\n",
              "      <div>\n",
              "<style scoped>\n",
              "    .dataframe tbody tr th:only-of-type {\n",
              "        vertical-align: middle;\n",
              "    }\n",
              "\n",
              "    .dataframe tbody tr th {\n",
              "        vertical-align: top;\n",
              "    }\n",
              "\n",
              "    .dataframe thead th {\n",
              "        text-align: right;\n",
              "    }\n",
              "</style>\n",
              "<table border=\"1\" class=\"dataframe\">\n",
              "  <thead>\n",
              "    <tr style=\"text-align: right;\">\n",
              "      <th></th>\n",
              "      <th>profile_age</th>\n",
              "      <th>profile_years_experience</th>\n",
              "      <th>work_years_in_company</th>\n",
              "      <th>work_years_in_current_position</th>\n",
              "      <th>work_people_in_charge_of</th>\n",
              "      <th>salary_on_call_duty_charge</th>\n",
              "      <th>salary_monthly_BRUTO</th>\n",
              "      <th>salary_monthly_NETO</th>\n",
              "      <th>salary_satisfaction</th>\n",
              "      <th>salary_comparison_last_semester</th>\n",
              "      <th>salary_percentage_inflation_adjustment_2020</th>\n",
              "      <th>salary_month_last_inflation_adjustment</th>\n",
              "      <th>company_recommended</th>\n",
              "      <th>company_diversity_policies</th>\n",
              "    </tr>\n",
              "  </thead>\n",
              "  <tbody>\n",
              "    <tr>\n",
              "      <th>count</th>\n",
              "      <td>4,760.00</td>\n",
              "      <td>4,760.00</td>\n",
              "      <td>4,760.00</td>\n",
              "      <td>4,760.00</td>\n",
              "      <td>4,760.00</td>\n",
              "      <td>4,760.00</td>\n",
              "      <td>4,760.00</td>\n",
              "      <td>4,604.00</td>\n",
              "      <td>4,760.00</td>\n",
              "      <td>4,760.00</td>\n",
              "      <td>4,760.00</td>\n",
              "      <td>4,760.00</td>\n",
              "      <td>4,760.00</td>\n",
              "      <td>4,760.00</td>\n",
              "    </tr>\n",
              "    <tr>\n",
              "      <th>mean</th>\n",
              "      <td>40.91</td>\n",
              "      <td>5.94</td>\n",
              "      <td>2.33</td>\n",
              "      <td>2.21</td>\n",
              "      <td>0.98</td>\n",
              "      <td>422.23</td>\n",
              "      <td>110,872.47</td>\n",
              "      <td>85,624.07</td>\n",
              "      <td>2.62</td>\n",
              "      <td>2.39</td>\n",
              "      <td>10.63</td>\n",
              "      <td>2.83</td>\n",
              "      <td>7.41</td>\n",
              "      <td>7.65</td>\n",
              "    </tr>\n",
              "    <tr>\n",
              "      <th>std</th>\n",
              "      <td>753.29</td>\n",
              "      <td>4.02</td>\n",
              "      <td>2.83</td>\n",
              "      <td>2.40</td>\n",
              "      <td>3.72</td>\n",
              "      <td>4,950.00</td>\n",
              "      <td>97,008.23</td>\n",
              "      <td>76,687.01</td>\n",
              "      <td>0.86</td>\n",
              "      <td>0.95</td>\n",
              "      <td>13.06</td>\n",
              "      <td>2.85</td>\n",
              "      <td>1.98</td>\n",
              "      <td>2.30</td>\n",
              "    </tr>\n",
              "    <tr>\n",
              "      <th>min</th>\n",
              "      <td>18.00</td>\n",
              "      <td>0.00</td>\n",
              "      <td>0.00</td>\n",
              "      <td>0.00</td>\n",
              "      <td>0.00</td>\n",
              "      <td>0.00</td>\n",
              "      <td>1.00</td>\n",
              "      <td>1.00</td>\n",
              "      <td>1.00</td>\n",
              "      <td>1.00</td>\n",
              "      <td>0.00</td>\n",
              "      <td>0.00</td>\n",
              "      <td>1.00</td>\n",
              "      <td>1.00</td>\n",
              "    </tr>\n",
              "    <tr>\n",
              "      <th>25%</th>\n",
              "      <td>26.00</td>\n",
              "      <td>3.00</td>\n",
              "      <td>0.00</td>\n",
              "      <td>0.00</td>\n",
              "      <td>0.00</td>\n",
              "      <td>0.00</td>\n",
              "      <td>58,000.00</td>\n",
              "      <td>48,430.00</td>\n",
              "      <td>2.00</td>\n",
              "      <td>2.00</td>\n",
              "      <td>0.00</td>\n",
              "      <td>0.00</td>\n",
              "      <td>6.00</td>\n",
              "      <td>6.00</td>\n",
              "    </tr>\n",
              "    <tr>\n",
              "      <th>50%</th>\n",
              "      <td>30.00</td>\n",
              "      <td>5.00</td>\n",
              "      <td>1.00</td>\n",
              "      <td>1.50</td>\n",
              "      <td>0.00</td>\n",
              "      <td>0.00</td>\n",
              "      <td>90,000.00</td>\n",
              "      <td>72,000.00</td>\n",
              "      <td>3.00</td>\n",
              "      <td>2.00</td>\n",
              "      <td>8.00</td>\n",
              "      <td>2.00</td>\n",
              "      <td>8.00</td>\n",
              "      <td>8.00</td>\n",
              "    </tr>\n",
              "    <tr>\n",
              "      <th>75%</th>\n",
              "      <td>33.00</td>\n",
              "      <td>10.00</td>\n",
              "      <td>3.00</td>\n",
              "      <td>3.00</td>\n",
              "      <td>0.00</td>\n",
              "      <td>0.00</td>\n",
              "      <td>133,000.00</td>\n",
              "      <td>100,000.00</td>\n",
              "      <td>3.00</td>\n",
              "      <td>3.00</td>\n",
              "      <td>18.85</td>\n",
              "      <td>6.00</td>\n",
              "      <td>9.00</td>\n",
              "      <td>10.00</td>\n",
              "    </tr>\n",
              "    <tr>\n",
              "      <th>max</th>\n",
              "      <td>52,000.00</td>\n",
              "      <td>14.00</td>\n",
              "      <td>23.00</td>\n",
              "      <td>14.00</td>\n",
              "      <td>60.00</td>\n",
              "      <td>228,000.00</td>\n",
              "      <td>1,000,000.00</td>\n",
              "      <td>1,000,000.00</td>\n",
              "      <td>4.00</td>\n",
              "      <td>4.00</td>\n",
              "      <td>100.00</td>\n",
              "      <td>8.00</td>\n",
              "      <td>10.00</td>\n",
              "      <td>10.00</td>\n",
              "    </tr>\n",
              "  </tbody>\n",
              "</table>\n",
              "</div>\n",
              "      <button class=\"colab-df-convert\" onclick=\"convertToInteractive('df-63ad957f-a310-4545-b35d-1da5652c88fa')\"\n",
              "              title=\"Convert this dataframe to an interactive table.\"\n",
              "              style=\"display:none;\">\n",
              "        \n",
              "  <svg xmlns=\"http://www.w3.org/2000/svg\" height=\"24px\"viewBox=\"0 0 24 24\"\n",
              "       width=\"24px\">\n",
              "    <path d=\"M0 0h24v24H0V0z\" fill=\"none\"/>\n",
              "    <path d=\"M18.56 5.44l.94 2.06.94-2.06 2.06-.94-2.06-.94-.94-2.06-.94 2.06-2.06.94zm-11 1L8.5 8.5l.94-2.06 2.06-.94-2.06-.94L8.5 2.5l-.94 2.06-2.06.94zm10 10l.94 2.06.94-2.06 2.06-.94-2.06-.94-.94-2.06-.94 2.06-2.06.94z\"/><path d=\"M17.41 7.96l-1.37-1.37c-.4-.4-.92-.59-1.43-.59-.52 0-1.04.2-1.43.59L10.3 9.45l-7.72 7.72c-.78.78-.78 2.05 0 2.83L4 21.41c.39.39.9.59 1.41.59.51 0 1.02-.2 1.41-.59l7.78-7.78 2.81-2.81c.8-.78.8-2.07 0-2.86zM5.41 20L4 18.59l7.72-7.72 1.47 1.35L5.41 20z\"/>\n",
              "  </svg>\n",
              "      </button>\n",
              "      \n",
              "  <style>\n",
              "    .colab-df-container {\n",
              "      display:flex;\n",
              "      flex-wrap:wrap;\n",
              "      gap: 12px;\n",
              "    }\n",
              "\n",
              "    .colab-df-convert {\n",
              "      background-color: #E8F0FE;\n",
              "      border: none;\n",
              "      border-radius: 50%;\n",
              "      cursor: pointer;\n",
              "      display: none;\n",
              "      fill: #1967D2;\n",
              "      height: 32px;\n",
              "      padding: 0 0 0 0;\n",
              "      width: 32px;\n",
              "    }\n",
              "\n",
              "    .colab-df-convert:hover {\n",
              "      background-color: #E2EBFA;\n",
              "      box-shadow: 0px 1px 2px rgba(60, 64, 67, 0.3), 0px 1px 3px 1px rgba(60, 64, 67, 0.15);\n",
              "      fill: #174EA6;\n",
              "    }\n",
              "\n",
              "    [theme=dark] .colab-df-convert {\n",
              "      background-color: #3B4455;\n",
              "      fill: #D2E3FC;\n",
              "    }\n",
              "\n",
              "    [theme=dark] .colab-df-convert:hover {\n",
              "      background-color: #434B5C;\n",
              "      box-shadow: 0px 1px 3px 1px rgba(0, 0, 0, 0.15);\n",
              "      filter: drop-shadow(0px 1px 2px rgba(0, 0, 0, 0.3));\n",
              "      fill: #FFFFFF;\n",
              "    }\n",
              "  </style>\n",
              "\n",
              "      <script>\n",
              "        const buttonEl =\n",
              "          document.querySelector('#df-63ad957f-a310-4545-b35d-1da5652c88fa button.colab-df-convert');\n",
              "        buttonEl.style.display =\n",
              "          google.colab.kernel.accessAllowed ? 'block' : 'none';\n",
              "\n",
              "        async function convertToInteractive(key) {\n",
              "          const element = document.querySelector('#df-63ad957f-a310-4545-b35d-1da5652c88fa');\n",
              "          const dataTable =\n",
              "            await google.colab.kernel.invokeFunction('convertToInteractive',\n",
              "                                                     [key], {});\n",
              "          if (!dataTable) return;\n",
              "\n",
              "          const docLinkHtml = 'Like what you see? Visit the ' +\n",
              "            '<a target=\"_blank\" href=https://colab.research.google.com/notebooks/data_table.ipynb>data table notebook</a>'\n",
              "            + ' to learn more about interactive tables.';\n",
              "          element.innerHTML = '';\n",
              "          dataTable['output_type'] = 'display_data';\n",
              "          await google.colab.output.renderOutput(dataTable, element);\n",
              "          const docLink = document.createElement('div');\n",
              "          docLink.innerHTML = docLinkHtml;\n",
              "          element.appendChild(docLink);\n",
              "        }\n",
              "      </script>\n",
              "    </div>\n",
              "  </div>\n",
              "  "
            ]
          },
          "metadata": {},
          "execution_count": 33
        }
      ]
    },
    {
      "cell_type": "markdown",
      "metadata": {
        "id": "VPjq_gC3qzsR"
      },
      "source": [
        "**2.2 Habiendo observado que hay valores extremos dentro de los datos de la variable 'profile_years_experience', vamos a trabajar con el 78% de los datos, es decir con quienes tienen hasta 15 años de experiencia, con salarios brutos menores o iguales a $1.000.000.**"
      ]
    },
    {
      "cell_type": "markdown",
      "metadata": {
        "id": "5baYhH0XHM3S"
      },
      "source": [
        "## a) Densidad conjunta\n",
        "\n",
        "Que herramientas visuales y modelos puede utilizar para estudiar la distribución y comportamiento de sus datos? \n",
        "\n",
        "Elija tres variables numéricas y 2 variables categóricas. Visualice la base según varias de las variables elegidas. Puede describir de alguna forma el comportamiento de sus datos? Que herramientas utilizaría? Describa\n",
        "\n",
        "\n"
      ]
    },
    {
      "cell_type": "markdown",
      "source": [
        "# Herramientas visuales para estudiar la distribución y comportamiento de los datos:\n",
        "- seaborn.pairplot(): Permite visualizar múltiples distribuciones bivariadas. Crea una matriz de ejes y muestra la distribución de cada par de características. \n",
        "- pandas.crosstab() => Permite crear una tabla de tabulación cruzada que puede mostrar la frecuencia con la que aparecen ciertos grupos de datos. \n"
      ],
      "metadata": {
        "id": "1ZsG23_0kcoU"
      }
    },
    {
      "cell_type": "markdown",
      "metadata": {
        "id": "4JhgKH5nvbwJ"
      },
      "source": [
        "# Selección de 3 VARIABLES NUMÉRICAS:\n",
        "\n",
        "- salary_monthly_BRUTO\n",
        "- salary_monthly_NETO\n",
        "- profile_years_experience\n",
        "\n",
        "# Selección de 2 VARIABLES CATEGÓRICAS\n",
        "\n",
        "- profile_gender\n",
        "- profile_studies_level"
      ]
    },
    {
      "cell_type": "markdown",
      "metadata": {
        "id": "IfmUtgvRiIaS"
      },
      "source": [
        "#### Inspección de valores de las variables categóricas:"
      ]
    },
    {
      "cell_type": "code",
      "execution_count": 34,
      "metadata": {
        "colab": {
          "base_uri": "https://localhost:8080/"
        },
        "id": "GbzlYVY80G4y",
        "outputId": "977e5031-cbf5-4fea-e913-ce91bf3bc783"
      },
      "outputs": [
        {
          "output_type": "execute_result",
          "data": {
            "text/plain": [
              "array(['Universitario', 'Secundario', 'Terciario', 'Posgrado',\n",
              "       'Posdoctorado', 'Doctorado', 'Primario'], dtype=object)"
            ]
          },
          "metadata": {},
          "execution_count": 34
        }
      ],
      "source": [
        "df_limpio.profile_studies_level.unique()\n"
      ]
    },
    {
      "cell_type": "code",
      "source": [
        "df_limpio.profile_gender.unique()"
      ],
      "metadata": {
        "colab": {
          "base_uri": "https://localhost:8080/"
        },
        "id": "wqi2jl--fosm",
        "outputId": "f423ca36-00ef-484b-a899-443d91557aae"
      },
      "execution_count": 35,
      "outputs": [
        {
          "output_type": "execute_result",
          "data": {
            "text/plain": [
              "array(['Mujer', 'Hombre', 'Otros'], dtype=object)"
            ]
          },
          "metadata": {},
          "execution_count": 35
        }
      ]
    },
    {
      "cell_type": "markdown",
      "metadata": {
        "id": "ERqC_EejwONu"
      },
      "source": [
        "**Gráfico de varias variables elegidas**"
      ]
    },
    {
      "cell_type": "code",
      "execution_count": 36,
      "metadata": {
        "colab": {
          "base_uri": "https://localhost:8080/",
          "height": 1000
        },
        "id": "xblTV2GFwdL1",
        "outputId": "7faae041-1a77-4ce2-ca28-b3cf4ffada72"
      },
      "outputs": [
        {
          "output_type": "execute_result",
          "data": {
            "text/plain": [
              "<seaborn.axisgrid.PairGrid at 0x7fadd2c17690>"
            ]
          },
          "metadata": {},
          "execution_count": 36
        },
        {
          "output_type": "display_data",
          "data": {
            "text/plain": [
              "<Figure size 1440x1080 with 6 Axes>"
            ],
            "image/png": "[encoded data removed]"
          },
          "metadata": {
            "needs_background": "light"
          }
        }
      ],
      "source": [
        "max_age = 15\n",
        "seaborn.pairplot(data=df[(df.profile_years_experience < max_age) & (df.salary_monthly_BRUTO < 1000000) & (df.salary_monthly_NETO < 1000000) ],\n",
        "                 y_vars=['profile_years_experience', 'salary_monthly_BRUTO','salary_monthly_NETO'],\n",
        "                 x_vars=['profile_gender', 'profile_studies_level'],\n",
        "                 aspect=2, height=5)"
      ]
    },
    {
      "cell_type": "markdown",
      "source": [
        "# Análisis de variables categóricas en conjunto"
      ],
      "metadata": {
        "id": "oC3PhGXpm1s6"
      }
    },
    {
      "cell_type": "code",
      "source": [
        "pd.crosstab(df_limpio.profile_gender, df_limpio.profile_studies_level)\n"
      ],
      "metadata": {
        "colab": {
          "base_uri": "https://localhost:8080/",
          "height": 175
        },
        "id": "u0kVh8T7jYwz",
        "outputId": "371f2540-1483-4401-ac40-943811a658a6"
      },
      "execution_count": 37,
      "outputs": [
        {
          "output_type": "execute_result",
          "data": {
            "text/plain": [
              "profile_studies_level  Doctorado  Posdoctorado  Posgrado  Primario  \\\n",
              "profile_gender                                                       \n",
              "Hombre                        11             2       131         2   \n",
              "Mujer                          8             0        57         0   \n",
              "Otros                          1             0         0         0   \n",
              "\n",
              "profile_studies_level  Secundario  Terciario  Universitario  \n",
              "profile_gender                                               \n",
              "Hombre                        326        746           2694  \n",
              "Mujer                          23        148            588  \n",
              "Otros                           1          7             15  "
            ],
            "text/html": [
              "\n",
              "  <div id=\"df-3f6cc82c-835d-4966-9a92-646ee17823ac\">\n",
              "    <div class=\"colab-df-container\">\n",
              "      <div>\n",
              "<style scoped>\n",
              "    .dataframe tbody tr th:only-of-type {\n",
              "        vertical-align: middle;\n",
              "    }\n",
              "\n",
              "    .dataframe tbody tr th {\n",
              "        vertical-align: top;\n",
              "    }\n",
              "\n",
              "    .dataframe thead th {\n",
              "        text-align: right;\n",
              "    }\n",
              "</style>\n",
              "<table border=\"1\" class=\"dataframe\">\n",
              "  <thead>\n",
              "    <tr style=\"text-align: right;\">\n",
              "      <th>profile_studies_level</th>\n",
              "      <th>Doctorado</th>\n",
              "      <th>Posdoctorado</th>\n",
              "      <th>Posgrado</th>\n",
              "      <th>Primario</th>\n",
              "      <th>Secundario</th>\n",
              "      <th>Terciario</th>\n",
              "      <th>Universitario</th>\n",
              "    </tr>\n",
              "    <tr>\n",
              "      <th>profile_gender</th>\n",
              "      <th></th>\n",
              "      <th></th>\n",
              "      <th></th>\n",
              "      <th></th>\n",
              "      <th></th>\n",
              "      <th></th>\n",
              "      <th></th>\n",
              "    </tr>\n",
              "  </thead>\n",
              "  <tbody>\n",
              "    <tr>\n",
              "      <th>Hombre</th>\n",
              "      <td>11</td>\n",
              "      <td>2</td>\n",
              "      <td>131</td>\n",
              "      <td>2</td>\n",
              "      <td>326</td>\n",
              "      <td>746</td>\n",
              "      <td>2694</td>\n",
              "    </tr>\n",
              "    <tr>\n",
              "      <th>Mujer</th>\n",
              "      <td>8</td>\n",
              "      <td>0</td>\n",
              "      <td>57</td>\n",
              "      <td>0</td>\n",
              "      <td>23</td>\n",
              "      <td>148</td>\n",
              "      <td>588</td>\n",
              "    </tr>\n",
              "    <tr>\n",
              "      <th>Otros</th>\n",
              "      <td>1</td>\n",
              "      <td>0</td>\n",
              "      <td>0</td>\n",
              "      <td>0</td>\n",
              "      <td>1</td>\n",
              "      <td>7</td>\n",
              "      <td>15</td>\n",
              "    </tr>\n",
              "  </tbody>\n",
              "</table>\n",
              "</div>\n",
              "      <button class=\"colab-df-convert\" onclick=\"convertToInteractive('df-3f6cc82c-835d-4966-9a92-646ee17823ac')\"\n",
              "              title=\"Convert this dataframe to an interactive table.\"\n",
              "              style=\"display:none;\">\n",
              "        \n",
              "  <svg xmlns=\"http://www.w3.org/2000/svg\" height=\"24px\"viewBox=\"0 0 24 24\"\n",
              "       width=\"24px\">\n",
              "    <path d=\"M0 0h24v24H0V0z\" fill=\"none\"/>\n",
              "    <path d=\"M18.56 5.44l.94 2.06.94-2.06 2.06-.94-2.06-.94-.94-2.06-.94 2.06-2.06.94zm-11 1L8.5 8.5l.94-2.06 2.06-.94-2.06-.94L8.5 2.5l-.94 2.06-2.06.94zm10 10l.94 2.06.94-2.06 2.06-.94-2.06-.94-.94-2.06-.94 2.06-2.06.94z\"/><path d=\"M17.41 7.96l-1.37-1.37c-.4-.4-.92-.59-1.43-.59-.52 0-1.04.2-1.43.59L10.3 9.45l-7.72 7.72c-.78.78-.78 2.05 0 2.83L4 21.41c.39.39.9.59 1.41.59.51 0 1.02-.2 1.41-.59l7.78-7.78 2.81-2.81c.8-.78.8-2.07 0-2.86zM5.41 20L4 18.59l7.72-7.72 1.47 1.35L5.41 20z\"/>\n",
              "  </svg>\n",
              "      </button>\n",
              "      \n",
              "  <style>\n",
              "    .colab-df-container {\n",
              "      display:flex;\n",
              "      flex-wrap:wrap;\n",
              "      gap: 12px;\n",
              "    }\n",
              "\n",
              "    .colab-df-convert {\n",
              "      background-color: #E8F0FE;\n",
              "      border: none;\n",
              "      border-radius: 50%;\n",
              "      cursor: pointer;\n",
              "      display: none;\n",
              "      fill: #1967D2;\n",
              "      height: 32px;\n",
              "      padding: 0 0 0 0;\n",
              "      width: 32px;\n",
              "    }\n",
              "\n",
              "    .colab-df-convert:hover {\n",
              "      background-color: #E2EBFA;\n",
              "      box-shadow: 0px 1px 2px rgba(60, 64, 67, 0.3), 0px 1px 3px 1px rgba(60, 64, 67, 0.15);\n",
              "      fill: #174EA6;\n",
              "    }\n",
              "\n",
              "    [theme=dark] .colab-df-convert {\n",
              "      background-color: #3B4455;\n",
              "      fill: #D2E3FC;\n",
              "    }\n",
              "\n",
              "    [theme=dark] .colab-df-convert:hover {\n",
              "      background-color: #434B5C;\n",
              "      box-shadow: 0px 1px 3px 1px rgba(0, 0, 0, 0.15);\n",
              "      filter: drop-shadow(0px 1px 2px rgba(0, 0, 0, 0.3));\n",
              "      fill: #FFFFFF;\n",
              "    }\n",
              "  </style>\n",
              "\n",
              "      <script>\n",
              "        const buttonEl =\n",
              "          document.querySelector('#df-3f6cc82c-835d-4966-9a92-646ee17823ac button.colab-df-convert');\n",
              "        buttonEl.style.display =\n",
              "          google.colab.kernel.accessAllowed ? 'block' : 'none';\n",
              "\n",
              "        async function convertToInteractive(key) {\n",
              "          const element = document.querySelector('#df-3f6cc82c-835d-4966-9a92-646ee17823ac');\n",
              "          const dataTable =\n",
              "            await google.colab.kernel.invokeFunction('convertToInteractive',\n",
              "                                                     [key], {});\n",
              "          if (!dataTable) return;\n",
              "\n",
              "          const docLinkHtml = 'Like what you see? Visit the ' +\n",
              "            '<a target=\"_blank\" href=https://colab.research.google.com/notebooks/data_table.ipynb>data table notebook</a>'\n",
              "            + ' to learn more about interactive tables.';\n",
              "          element.innerHTML = '';\n",
              "          dataTable['output_type'] = 'display_data';\n",
              "          await google.colab.output.renderOutput(dataTable, element);\n",
              "          const docLink = document.createElement('div');\n",
              "          docLink.innerHTML = docLinkHtml;\n",
              "          element.appendChild(docLink);\n",
              "        }\n",
              "      </script>\n",
              "    </div>\n",
              "  </div>\n",
              "  "
            ]
          },
          "metadata": {},
          "execution_count": 37
        }
      ]
    },
    {
      "cell_type": "code",
      "source": [
        "#Ordenamos lista de nombres de categorías\n",
        "sorted_studies_levels = ['Primario', 'Secundario', 'Terciario', 'Universitario',\n",
        "                         'Posgrado', 'Doctorado', 'Posdoctorado'] \n",
        "\n",
        "## Tabla de contingencia normalizada, la suma de los valores da 1, son proporciones, estima probabilidad\n",
        "pd.crosstab(df_limpio.profile_gender, df_limpio.profile_studies_level, normalize=True)[sorted_studies_levels]"
      ],
      "metadata": {
        "colab": {
          "base_uri": "https://localhost:8080/",
          "height": 175
        },
        "id": "7XOn9rG4luTJ",
        "outputId": "3802655a-736e-4c5d-fea2-3567977354a2"
      },
      "execution_count": 38,
      "outputs": [
        {
          "output_type": "execute_result",
          "data": {
            "text/plain": [
              "profile_studies_level  Primario  Secundario  Terciario  Universitario  \\\n",
              "profile_gender                                                          \n",
              "Hombre                     0.00        0.07       0.16           0.57   \n",
              "Mujer                      0.00        0.00       0.03           0.12   \n",
              "Otros                      0.00        0.00       0.00           0.00   \n",
              "\n",
              "profile_studies_level  Posgrado  Doctorado  Posdoctorado  \n",
              "profile_gender                                            \n",
              "Hombre                     0.03       0.00          0.00  \n",
              "Mujer                      0.01       0.00          0.00  \n",
              "Otros                      0.00       0.00          0.00  "
            ],
            "text/html": [
              "\n",
              "  <div id=\"df-7576e85e-a15f-4b7b-a361-60a791b4dd37\">\n",
              "    <div class=\"colab-df-container\">\n",
              "      <div>\n",
              "<style scoped>\n",
              "    .dataframe tbody tr th:only-of-type {\n",
              "        vertical-align: middle;\n",
              "    }\n",
              "\n",
              "    .dataframe tbody tr th {\n",
              "        vertical-align: top;\n",
              "    }\n",
              "\n",
              "    .dataframe thead th {\n",
              "        text-align: right;\n",
              "    }\n",
              "</style>\n",
              "<table border=\"1\" class=\"dataframe\">\n",
              "  <thead>\n",
              "    <tr style=\"text-align: right;\">\n",
              "      <th>profile_studies_level</th>\n",
              "      <th>Primario</th>\n",
              "      <th>Secundario</th>\n",
              "      <th>Terciario</th>\n",
              "      <th>Universitario</th>\n",
              "      <th>Posgrado</th>\n",
              "      <th>Doctorado</th>\n",
              "      <th>Posdoctorado</th>\n",
              "    </tr>\n",
              "    <tr>\n",
              "      <th>profile_gender</th>\n",
              "      <th></th>\n",
              "      <th></th>\n",
              "      <th></th>\n",
              "      <th></th>\n",
              "      <th></th>\n",
              "      <th></th>\n",
              "      <th></th>\n",
              "    </tr>\n",
              "  </thead>\n",
              "  <tbody>\n",
              "    <tr>\n",
              "      <th>Hombre</th>\n",
              "      <td>0.00</td>\n",
              "      <td>0.07</td>\n",
              "      <td>0.16</td>\n",
              "      <td>0.57</td>\n",
              "      <td>0.03</td>\n",
              "      <td>0.00</td>\n",
              "      <td>0.00</td>\n",
              "    </tr>\n",
              "    <tr>\n",
              "      <th>Mujer</th>\n",
              "      <td>0.00</td>\n",
              "      <td>0.00</td>\n",
              "      <td>0.03</td>\n",
              "      <td>0.12</td>\n",
              "      <td>0.01</td>\n",
              "      <td>0.00</td>\n",
              "      <td>0.00</td>\n",
              "    </tr>\n",
              "    <tr>\n",
              "      <th>Otros</th>\n",
              "      <td>0.00</td>\n",
              "      <td>0.00</td>\n",
              "      <td>0.00</td>\n",
              "      <td>0.00</td>\n",
              "      <td>0.00</td>\n",
              "      <td>0.00</td>\n",
              "      <td>0.00</td>\n",
              "    </tr>\n",
              "  </tbody>\n",
              "</table>\n",
              "</div>\n",
              "      <button class=\"colab-df-convert\" onclick=\"convertToInteractive('df-7576e85e-a15f-4b7b-a361-60a791b4dd37')\"\n",
              "              title=\"Convert this dataframe to an interactive table.\"\n",
              "              style=\"display:none;\">\n",
              "        \n",
              "  <svg xmlns=\"http://www.w3.org/2000/svg\" height=\"24px\"viewBox=\"0 0 24 24\"\n",
              "       width=\"24px\">\n",
              "    <path d=\"M0 0h24v24H0V0z\" fill=\"none\"/>\n",
              "    <path d=\"M18.56 5.44l.94 2.06.94-2.06 2.06-.94-2.06-.94-.94-2.06-.94 2.06-2.06.94zm-11 1L8.5 8.5l.94-2.06 2.06-.94-2.06-.94L8.5 2.5l-.94 2.06-2.06.94zm10 10l.94 2.06.94-2.06 2.06-.94-2.06-.94-.94-2.06-.94 2.06-2.06.94z\"/><path d=\"M17.41 7.96l-1.37-1.37c-.4-.4-.92-.59-1.43-.59-.52 0-1.04.2-1.43.59L10.3 9.45l-7.72 7.72c-.78.78-.78 2.05 0 2.83L4 21.41c.39.39.9.59 1.41.59.51 0 1.02-.2 1.41-.59l7.78-7.78 2.81-2.81c.8-.78.8-2.07 0-2.86zM5.41 20L4 18.59l7.72-7.72 1.47 1.35L5.41 20z\"/>\n",
              "  </svg>\n",
              "      </button>\n",
              "      \n",
              "  <style>\n",
              "    .colab-df-container {\n",
              "      display:flex;\n",
              "      flex-wrap:wrap;\n",
              "      gap: 12px;\n",
              "    }\n",
              "\n",
              "    .colab-df-convert {\n",
              "      background-color: #E8F0FE;\n",
              "      border: none;\n",
              "      border-radius: 50%;\n",
              "      cursor: pointer;\n",
              "      display: none;\n",
              "      fill: #1967D2;\n",
              "      height: 32px;\n",
              "      padding: 0 0 0 0;\n",
              "      width: 32px;\n",
              "    }\n",
              "\n",
              "    .colab-df-convert:hover {\n",
              "      background-color: #E2EBFA;\n",
              "      box-shadow: 0px 1px 2px rgba(60, 64, 67, 0.3), 0px 1px 3px 1px rgba(60, 64, 67, 0.15);\n",
              "      fill: #174EA6;\n",
              "    }\n",
              "\n",
              "    [theme=dark] .colab-df-convert {\n",
              "      background-color: #3B4455;\n",
              "      fill: #D2E3FC;\n",
              "    }\n",
              "\n",
              "    [theme=dark] .colab-df-convert:hover {\n",
              "      background-color: #434B5C;\n",
              "      box-shadow: 0px 1px 3px 1px rgba(0, 0, 0, 0.15);\n",
              "      filter: drop-shadow(0px 1px 2px rgba(0, 0, 0, 0.3));\n",
              "      fill: #FFFFFF;\n",
              "    }\n",
              "  </style>\n",
              "\n",
              "      <script>\n",
              "        const buttonEl =\n",
              "          document.querySelector('#df-7576e85e-a15f-4b7b-a361-60a791b4dd37 button.colab-df-convert');\n",
              "        buttonEl.style.display =\n",
              "          google.colab.kernel.accessAllowed ? 'block' : 'none';\n",
              "\n",
              "        async function convertToInteractive(key) {\n",
              "          const element = document.querySelector('#df-7576e85e-a15f-4b7b-a361-60a791b4dd37');\n",
              "          const dataTable =\n",
              "            await google.colab.kernel.invokeFunction('convertToInteractive',\n",
              "                                                     [key], {});\n",
              "          if (!dataTable) return;\n",
              "\n",
              "          const docLinkHtml = 'Like what you see? Visit the ' +\n",
              "            '<a target=\"_blank\" href=https://colab.research.google.com/notebooks/data_table.ipynb>data table notebook</a>'\n",
              "            + ' to learn more about interactive tables.';\n",
              "          element.innerHTML = '';\n",
              "          dataTable['output_type'] = 'display_data';\n",
              "          await google.colab.output.renderOutput(dataTable, element);\n",
              "          const docLink = document.createElement('div');\n",
              "          docLink.innerHTML = docLinkHtml;\n",
              "          element.appendChild(docLink);\n",
              "        }\n",
              "      </script>\n",
              "    </div>\n",
              "  </div>\n",
              "  "
            ]
          },
          "metadata": {},
          "execution_count": 38
        }
      ]
    },
    {
      "cell_type": "markdown",
      "source": [
        "# Análisis de variables numéricas "
      ],
      "metadata": {
        "id": "NuCjch6-m8Yd"
      }
    },
    {
      "cell_type": "code",
      "metadata": {
        "id": "2lzmzK1NuPNT",
        "colab": {
          "base_uri": "https://localhost:8080/",
          "height": 476
        },
        "outputId": "81219d5d-790c-4edc-9581-0cf9d213b489"
      },
      "source": [
        "fig = plt.figure(figsize=(8,4))\n",
        "seaborn.jointplot(data=df_limpio[df.profile_years_experience < max_age], x='salary_monthly_NETO',\n",
        "                  y='profile_years_experience', kind='hex', height=6) \n",
        "plt.axvline(df[df.profile_age < max_age]['salary_monthly_NETO'].mean(), color='orangered',\n",
        "            linestyle='--', label='Media Salario')\n",
        "plt.axhline(df[df.profile_age < max_age]['profile_years_experience'].mean(), color='blue',\n",
        "            linestyle='--', label='Media Edad')\n",
        "plt.legend()\n",
        "# Remove scietific notation\n",
        "plt.ticklabel_format(useOffset=False, style='plain')"
      ],
      "execution_count": 39,
      "outputs": [
        {
          "output_type": "stream",
          "name": "stderr",
          "text": [
            "/usr/local/lib/python3.7/dist-packages/ipykernel_launcher.py:2: UserWarning: Boolean Series key will be reindexed to match DataFrame index.\n",
            "  \n"
          ]
        },
        {
          "output_type": "display_data",
          "data": {
            "text/plain": [
              "<Figure size 576x288 with 0 Axes>"
            ]
          },
          "metadata": {}
        },
        {
          "output_type": "display_data",
          "data": {
            "text/plain": [
              "<Figure size 432x432 with 3 Axes>"
            ],
            "image/png": "[encoded data removed]"
          },
          "metadata": {
            "needs_background": "light"
          }
        }
      ]
    },
    {
      "cell_type": "markdown",
      "metadata": {
        "id": "lkuHE2aZGHMO"
      },
      "source": [
        "## b) Asociación\n",
        "\n",
        "* Necesitamos decidir si sacar o no la columna de salario bruto. Para hacer la encuesta más simple.\n",
        "¿Existe una correlación entre el salario bruto y el neto? Que abordaje y medidas usaría\n",
        "\n"
      ]
    },
    {
      "cell_type": "markdown",
      "source": [
        ""
      ],
      "metadata": {
        "id": "rz6SqagIQ2Dn"
      }
    },
    {
      "cell_type": "markdown",
      "metadata": {
        "id": "7MZrbRJCm-ae"
      },
      "source": [
        "## c) Densidad condicional \n",
        "\n",
        "Estudie la distribución del salario según el nivel de estudio.\n",
        "\n",
        "Separe la población según el nivel de estudio (elija dos subpoblaciones numerosas) y grafique de manera comparativa ambos histogramas de la variable `'salary_monthly_NETO'`\n",
        "¿Considera que ambas variables son independientes?\n",
        "¿Qué analizaría al respecto?\n",
        "\n",
        "Calcule medidas de centralización y dispersión para cada subpoblación\n",
        "\n",
        "\n",
        "\n",
        "\n"
      ]
    },
    {
      "cell_type": "code",
      "execution_count": 40,
      "metadata": {
        "colab": {
          "base_uri": "https://localhost:8080/"
        },
        "id": "BkeQeGqYdWLm",
        "outputId": "da1e2a17-7b3f-4167-a086-571189cea00e"
      },
      "outputs": [
        {
          "output_type": "execute_result",
          "data": {
            "text/plain": [
              "Universitario    4133\n",
              "Terciario        1135\n",
              "Secundario        449\n",
              "Posgrado          342\n",
              "Doctorado          30\n",
              "Posdoctorado        4\n",
              "Primario            2\n",
              "Name: profile_studies_level, dtype: int64"
            ]
          },
          "metadata": {},
          "execution_count": 40
        }
      ],
      "source": [
        "#Primero se visualiza la cantidad de datos por nivel de estudio.\n",
        "\n",
        "df.profile_studies_level.value_counts()"
      ]
    },
    {
      "cell_type": "markdown",
      "metadata": {
        "id": "mSqRXfYzk0jx"
      },
      "source": [
        "Variables:\n",
        "\n",
        "* profile_studies_level\n",
        "* salary_monthly_NETO"
      ]
    },
    {
      "cell_type": "code",
      "execution_count": 41,
      "metadata": {
        "id": "sGUhMxE9lUfB"
      },
      "outputs": [],
      "source": [
        "#Probabilidad que ocurra"
      ]
    },
    {
      "cell_type": "markdown",
      "metadata": {
        "id": "jMY0Iyy4vANo"
      },
      "source": [
        "### Subpoblación Nivel de Estudio Universitario"
      ]
    },
    {
      "cell_type": "code",
      "execution_count": 42,
      "metadata": {
        "colab": {
          "base_uri": "https://localhost:8080/",
          "height": 476
        },
        "id": "tlFB36QdY8Wy",
        "outputId": "0d7365e5-37bd-4069-b2c3-5c845f7d143b"
      },
      "outputs": [
        {
          "output_type": "display_data",
          "data": {
            "text/plain": [
              "<Figure size 576x432 with 1 Axes>"
            ],
            "image/png": "[encoded data removed]"
          },
          "metadata": {
            "needs_background": "light"
          }
        }
      ],
      "source": [
        "filter_universitario = df[df.profile_studies_level == \"Universitario\"][\"salary_monthly_NETO\"]\n",
        "\n",
        "plt.figure(figsize=(8,6))\n",
        "\n",
        "plt.hist(x=filter_universitario, bins=40, color=\"#F2AB6D\", rwidth=0.85)\n",
        "\n",
        "plt.title('Histograma del salario mensual neto y nivel de estudios universitario')\n",
        "\n",
        "plt.xlabel('Salario Mensual Neto')\n",
        "\n",
        "plt.ylabel('Frecuencia')\n",
        "\n",
        "plt.ticklabel_format(axis='x', style='plain')\n",
        "\n",
        "\n",
        "\n",
        "plt.xticks(rotation=45)\n",
        "\n",
        "plt.show()\n"
      ]
    },
    {
      "cell_type": "code",
      "execution_count": 43,
      "metadata": {
        "colab": {
          "base_uri": "https://localhost:8080/"
        },
        "id": "fdMErhYLlK1u",
        "outputId": "11ff5998-32d3-4343-b037-e23cb5d7d5d5"
      },
      "outputs": [
        {
          "output_type": "stream",
          "name": "stdout",
          "text": [
            "Media: $97410\n",
            "Mediana: $80000\n",
            "Moda: $80000\n"
          ]
        }
      ],
      "source": [
        "#Medidas de centralización\n",
        "\n",
        "dictionary_universitario = {'Media':filter_universitario.mean(), 'Mediana': filter_universitario.median(), 'Moda': filter_universitario.mode()}\n",
        "\n",
        "for i, j in dictionary_universitario.items():\n",
        "  print(str(i) + \": $\" + str(round(float(j))))"
      ]
    },
    {
      "cell_type": "code",
      "execution_count": 44,
      "metadata": {
        "colab": {
          "base_uri": "https://localhost:8080/"
        },
        "id": "I8xU6GATrDJg",
        "outputId": "43b3a026-4dff-41bf-8c1e-900f13a44b7a"
      },
      "outputs": [
        {
          "output_type": "stream",
          "name": "stdout",
          "text": [
            "Varianza: 9812270024\n",
            "Desviación estándar: 99057\n",
            "Coeficiente de Variación: 1.017\n"
          ]
        }
      ],
      "source": [
        "#Medidas de dispersión\n",
        "\n",
        "dictionary2_universitario = {'Varianza':filter_universitario.var(), 'Desviación estándar': filter_universitario.std(), 'Coeficiente de Variación': filter_universitario.std()/filter_universitario.mean()}\n",
        "\n",
        "for i, j in dictionary2_universitario.items():\n",
        "\n",
        "    if j>2:\n",
        "      print(str(i) + \": \" + str(round(float(j))))\n",
        "    else:\n",
        "      print(str(i) + \": \" + str(round(filter_universitario.std()/filter_universitario.mean(),3)))\n",
        "  \n",
        "  "
      ]
    },
    {
      "cell_type": "markdown",
      "metadata": {
        "id": "HVCRs57x2l07"
      },
      "source": [
        "### COEFICIENTE DE VARIACION MAYOR A 1 \n",
        "\n",
        "https://www.universoformulas.com/estadistica/descriptiva/coeficiente-variacion-pearson/#:~:text=El%20coeficiente%20de%20variaci%C3%B3n%20toma,y%20la%20media%20pierde%20confiabilidad."
      ]
    },
    {
      "cell_type": "markdown",
      "metadata": {
        "id": "ImEorrDLvUtG"
      },
      "source": [
        "### Subpoblación Nivel de Estudio Terciario"
      ]
    },
    {
      "cell_type": "code",
      "execution_count": 45,
      "metadata": {
        "colab": {
          "base_uri": "https://localhost:8080/",
          "height": 476
        },
        "id": "ZKUpmauCvbVP",
        "outputId": "3161a484-2dcc-4800-8131-1b2db2d8453e"
      },
      "outputs": [
        {
          "output_type": "display_data",
          "data": {
            "text/plain": [
              "<Figure size 576x432 with 1 Axes>"
            ],
            "image/png": "[encoded data removed]"
          },
          "metadata": {
            "needs_background": "light"
          }
        }
      ],
      "source": [
        "filter_terciario = df[df.profile_studies_level == \"Terciario\"][\"salary_monthly_NETO\"]\n",
        "\n",
        "plt.figure(figsize=(8,6))\n",
        "\n",
        "plt.hist(x=filter_universitario, bins=40, color=\"#F2AB6D\", rwidth=0.85)\n",
        "\n",
        "plt.title('Histograma del salario mensual neto y nivel de estudios universitario')\n",
        "\n",
        "plt.xlabel('Salario Mensual Neto')\n",
        "\n",
        "plt.ylabel('Frecuencia')\n",
        "\n",
        "plt.ticklabel_format(axis='x', style='plain')\n",
        "\n",
        "\n",
        "\n",
        "plt.xticks(rotation=45)\n",
        "\n",
        "plt.show()\n"
      ]
    },
    {
      "cell_type": "code",
      "execution_count": 46,
      "metadata": {
        "colab": {
          "base_uri": "https://localhost:8080/"
        },
        "id": "ibHsVXXEvbcx",
        "outputId": "8f5e4211-84ea-412d-f337-21e761bc68ec"
      },
      "outputs": [
        {
          "output_type": "stream",
          "name": "stdout",
          "text": [
            "Media: $80814\n",
            "Mediana: $68000\n",
            "Moda: $80000\n"
          ]
        }
      ],
      "source": [
        "#Medidas de centralización\n",
        "\n",
        "dictionary_terciario = {'Media':filter_terciario.mean(), 'Mediana': filter_terciario.median(), 'Moda': filter_terciario.mode()}\n",
        "\n",
        "for i, j in dictionary_terciario.items():\n",
        "  print(str(i) + \": $\" + str(round(float(j))))"
      ]
    },
    {
      "cell_type": "code",
      "execution_count": 47,
      "metadata": {
        "colab": {
          "base_uri": "https://localhost:8080/"
        },
        "id": "IeXxvwTKvvmg",
        "outputId": "acb92b86-261e-4720-c09f-a64ee06a1a91"
      },
      "outputs": [
        {
          "output_type": "stream",
          "name": "stdout",
          "text": [
            "Varianza: 5335579585\n",
            "Desviación estándar: 73045\n",
            "Coeficiente de Variación: 0.904\n"
          ]
        }
      ],
      "source": [
        "#Medidas de dispersión\n",
        "\n",
        "dictionary2_terciario = {'Varianza':filter_terciario.var(), 'Desviación estándar': filter_terciario.std(), 'Coeficiente de Variación': filter_terciario.std()/filter_terciario.mean()}\n",
        "\n",
        "for i, j in dictionary2_terciario.items():\n",
        "\n",
        "    if j>2:\n",
        "      print(str(i) + \": \" + str(round(float(j))))\n",
        "    else:\n",
        "      print(str(i) + \": \" + str(round(filter_terciario.std()/filter_terciario.mean(),3)))"
      ]
    },
    {
      "cell_type": "markdown",
      "metadata": {
        "id": "u8wgYxNiqVpE"
      },
      "source": [
        "## d) Densidad Conjunta condicional\n",
        "\n",
        "Elija dos variables numéricas y una categórica. \n",
        "Estudie la dispersión (scatterplot) de las dos variables discriminando en color por la variable categórica (ayuda: hue en seaborn)\n"
      ]
    },
    {
      "cell_type": "markdown",
      "source": [
        "#### Posibles variables numéricas."
      ],
      "metadata": {
        "id": "_Gu9cRQs98VL"
      }
    },
    {
      "cell_type": "code",
      "execution_count": 48,
      "metadata": {
        "colab": {
          "base_uri": "https://localhost:8080/"
        },
        "id": "BllfPmdw9XxK",
        "outputId": "9a18449c-9564-4dfb-f6fe-59e28c004922"
      },
      "outputs": [
        {
          "output_type": "stream",
          "name": "stdout",
          "text": [
            "Posibles variables numéricas: \n",
            "\n",
            "profile_age\n",
            "profile_years_experience\n",
            "work_years_in_company\n",
            "work_years_in_current_position\n",
            "work_people_in_charge_of\n",
            "salary_on_call_duty_charge\n",
            "salary_monthly_BRUTO\n",
            "salary_monthly_NETO\n",
            "salary_satisfaction\n",
            "salary_comparison_last_semester\n",
            "salary_percentage_inflation_adjustment_2020\n",
            "salary_month_last_inflation_adjustment\n",
            "company_recommended\n",
            "company_diversity_policies\n"
          ]
        }
      ],
      "source": [
        "print('Posibles variables numéricas: \\n')\n",
        "for i in df.select_dtypes(['int64','float64']).columns:\n",
        "  print(i)"
      ]
    },
    {
      "cell_type": "markdown",
      "source": [
        "#### Posibles variables categóricas."
      ],
      "metadata": {
        "id": "ybuYPUgq-HIi"
      }
    },
    {
      "cell_type": "code",
      "execution_count": 114,
      "metadata": {
        "colab": {
          "base_uri": "https://localhost:8080/"
        },
        "id": "pTg1rSyP6pxl",
        "outputId": "b9879ce3-ca29-4c36-e686-ab7b00fae0c0"
      },
      "outputs": [
        {
          "output_type": "stream",
          "name": "stdout",
          "text": [
            "Posibles variables categóricas: \n",
            "\n",
            "profile_gender\n",
            "work_country\n",
            "work_province\n",
            "profile_studies_level\n",
            "profile_studies_level_state\n",
            "profile_career\n",
            "profile_university\n",
            "profile_specialization_courses\n",
            "profile_open_source_contributions\n",
            "profile_programming_as_hobby\n",
            "work_role\n",
            "tools_platform\n",
            "tools_programming_languages\n",
            "tools_frameworks\n",
            "tools_data_bases\n",
            "tools_qa_testing\n",
            "tools_IDEs\n",
            "tools_work_pc_os\n",
            "tools_cellphone_os\n",
            "work_on_call_duty\n",
            "work_on_call_duty_charge_type\n",
            "work_contract_type\n",
            "salary_in_usd\n",
            "salary_has_bonus\n",
            "salary_bonus_tied_to\n",
            "salary_inflation_adjustment_2020\n",
            "work_has_violence_situations\n",
            "profile_sexual_orientation\n",
            "profile_has_disabilities\n",
            "profile_has_disabilities_hiring_difficulties\n",
            "company_employee_number\n",
            "company_main_activity\n",
            "company_extra_benefits\n",
            "company_best_companies_city\n"
          ]
        }
      ],
      "source": [
        "print('Posibles variables categóricas: \\n')\n",
        "for i in df.select_dtypes(['object']).columns:\n",
        "  print(i)"
      ]
    },
    {
      "cell_type": "markdown",
      "metadata": {
        "id": "nhrxi4g6VbMz"
      },
      "source": [
        "#### Elección de variables\n",
        "\n",
        "Variables numéricas:\n",
        "\n",
        "*   work_years_in_company\n",
        "*   profile_years_experience\n",
        "\n",
        "Variable categórica:\n",
        "\n",
        "*   salary_in_usd     \n",
        "\n"
      ]
    },
    {
      "cell_type": "markdown",
      "source": [
        "#### Se estudia la dispersión con un gráfico scatterplot"
      ],
      "metadata": {
        "id": "EEkckJ3H-Tse"
      }
    },
    {
      "cell_type": "code",
      "execution_count": 115,
      "metadata": {
        "colab": {
          "base_uri": "https://localhost:8080/",
          "height": 937
        },
        "id": "8717ivzIVaN9",
        "outputId": "a22b5dc8-86c3-4051-bb61-3e6cee800512"
      },
      "outputs": [
        {
          "output_type": "execute_result",
          "data": {
            "text/plain": [
              "Text(0, 0.5, 'Años de trabajo en la compañía')"
            ]
          },
          "metadata": {},
          "execution_count": 115
        },
        {
          "output_type": "display_data",
          "data": {
            "text/plain": [
              "<Figure size 1080x1080 with 1 Axes>"
            ],
            "image/png": "[encoded data removed]"
          },
          "metadata": {
            "needs_background": "light"
          }
        }
      ],
      "source": [
        "plt.figure(figsize = [15,15])\n",
        "seaborn.scatterplot(data=df[df.profile_years_experience < 70], y='work_years_in_company',\n",
        "                  x='profile_years_experience', hue='salary_in_usd').legend(title='¿Sueldo dolarizado?')\n",
        "plt.title('Gráfico de dispersión')\n",
        "plt.xlabel('Años de experiencia')\n",
        "plt.ylabel('Años de trabajo en la compañía')"
      ]
    },
    {
      "cell_type": "markdown",
      "source": [
        "#### Conclusiones\n",
        "\n",
        "\n",
        "\n",
        "*   Primeramente se puede observar que los valores que están por encima de la línea de 45°, se pueden suponer como erróneos, ya que no se puede tener más años en la compañía que años de experiencia total.\n",
        "\n",
        "  Otro análisis para abordar esta situación es que puede deberse a personas que trabajaban en la compañía en otro puesto no relacionado a sistemas antes de tener el actual.\n",
        "\n",
        "  Para descartar valores erróneos, se puede analizar la edad de las personas, de esta manera se podría sacar los valores que impliquen experiencia de trabajo a una edad menor de los 18 años.\n",
        "\n",
        "*   El segundo punto a tener en cuenta, son los valores que se encuentran debajo de la línea de 45°, esto implica que la mayoría de las personas encuestadas no tienen como primer trabajo el puesto actual.\n",
        "\n",
        "*   Siguiendo con el abordaje a partir de la línea de 45°, se tiene que los valores que se encuentran sobre la misma, son mucho menos, como en el análisis anterior implica que son pocas las personas que permanecen en su primer trabajo.\n",
        "\n",
        "*  El cuarto punto a tener en cuenta es la variable categórica, se va a hacer foco en los sueldos dolarizados, se puede observar que la mayoría de los sueldos dolarizados corresponden a personas que tienen entre 5 y 20 años de experiencia.\n",
        "\n",
        "*  El quinto y último punto a analizar es que todas las personas encuestadas con salario en dólares tienen como mínimo 2 años de experiencia laboral.\n",
        "\n",
        "\n"
      ],
      "metadata": {
        "id": "enUrENDi6Ian"
      }
    }
  ],
  "metadata": {
    "colab": {
      "collapsed_sections": [],
      "name": "Entregable - Parte 1.ipynb",
      "provenance": [],
      "include_colab_link": true
    },
    "kernelspec": {
      "display_name": "Python 3",
      "name": "python3"
    }
  },
  "nbformat": 4,
  "nbformat_minor": 0
}